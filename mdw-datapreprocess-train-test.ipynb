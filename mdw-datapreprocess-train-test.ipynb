{
 "cells": [
  {
   "cell_type": "markdown",
   "id": "c1735813",
   "metadata": {
    "papermill": {
     "duration": 0.011364,
     "end_time": "2023-06-10T09:29:31.544529",
     "exception": false,
     "start_time": "2023-06-10T09:29:31.533165",
     "status": "completed"
    },
    "tags": []
   },
   "source": [
    "# <span style=\"color:teal\"> Contradictory, My Dear Watson <a class=\"anchor\"  id=\"projectTopic\"></a></span>\n",
    "### <span style=\"color:teal\"> Detecting contradiction and entailment in multilingual text <a class=\"anchor\"  id=\"detect\"></a></span>\n",
    "\n",
    "### <span style=\"color:teal\">Developed by : <a class=\"anchor\"  id=\"detect\"></a></span>\n",
    "\n",
    "* [Gebreyowhans Hailekiros](https://www.kaggle.com/gebreyowhansbahre/)\n",
    "* [Mahbub Hasan](https://www.kaggle.com/mahbubhasanuunical)\n",
    "* [Muhammad Danish Sadiq](https://www.kaggle.com/muhammaddanishsadiq/)\n",
    "\n",
    "* This notebook is aimed at developing a neural network model which is capable of detecting contradiction and entilment in multilingual text.\n",
    "\n",
    "### <span style=\"color:teal\">In this following notebook: <a class=\"anchor\"  id=\"detect\"></a></span>\n",
    "* We consider all the languages\n",
    "* Our dataset is too low, so we are using [multi_nli](https://huggingface.co/datasets/multi_nli) dataset to extends our data for traning data\n",
    "* And some important EDA"
   ]
  },
  {
   "cell_type": "markdown",
   "id": "5d46fe98",
   "metadata": {
    "papermill": {
     "duration": 0.00983,
     "end_time": "2023-06-10T09:29:31.564820",
     "exception": false,
     "start_time": "2023-06-10T09:29:31.554990",
     "status": "completed"
    },
    "tags": []
   },
   "source": [
    "# Hardware Information"
   ]
  },
  {
   "cell_type": "code",
   "execution_count": 1,
   "id": "5944dbaf",
   "metadata": {
    "execution": {
     "iopub.execute_input": "2023-06-10T09:29:31.586893Z",
     "iopub.status.busy": "2023-06-10T09:29:31.586094Z",
     "iopub.status.idle": "2023-06-10T09:29:33.683688Z",
     "shell.execute_reply": "2023-06-10T09:29:33.682198Z"
    },
    "papermill": {
     "duration": 2.112032,
     "end_time": "2023-06-10T09:29:33.686759",
     "exception": false,
     "start_time": "2023-06-10T09:29:31.574727",
     "status": "completed"
    },
    "tags": []
   },
   "outputs": [
    {
     "name": "stdout",
     "output_type": "stream",
     "text": [
      "CPU Count: 2\n",
      "Model name:                      Intel(R) Xeon(R) CPU @ 2.00GHz\r\n",
      "CPU Ram: ['16G']\n",
      "GPU's: ['GPU 0: Tesla T4 (UUID: GPU-e5d78800-36fd-8b89-4482-51fe910370ad)', 'GPU 1: Tesla T4 (UUID: GPU-b5bdcdf9-499c-a3f2-8969-09e005874292)']\n",
      "Sat Jun 10 09:29:33 2023       \r\n",
      "+-----------------------------------------------------------------------------+\r\n",
      "| NVIDIA-SMI 470.161.03   Driver Version: 470.161.03   CUDA Version: 11.4     |\r\n",
      "|-------------------------------+----------------------+----------------------+\r\n",
      "| GPU  Name        Persistence-M| Bus-Id        Disp.A | Volatile Uncorr. ECC |\r\n",
      "| Fan  Temp  Perf  Pwr:Usage/Cap|         Memory-Usage | GPU-Util  Compute M. |\r\n",
      "|                               |                      |               MIG M. |\r\n",
      "|===============================+======================+======================|\r\n",
      "|   0  Tesla T4            Off  | 00000000:00:04.0 Off |                    0 |\r\n",
      "| N/A   54C    P8    12W /  70W |      0MiB / 15109MiB |      0%      Default |\r\n",
      "|                               |                      |                  N/A |\r\n",
      "+-------------------------------+----------------------+----------------------+\r\n",
      "|   1  Tesla T4            Off  | 00000000:00:05.0 Off |                    0 |\r\n",
      "| N/A   60C    P8    13W /  70W |      0MiB / 15109MiB |      0%      Default |\r\n",
      "|                               |                      |                  N/A |\r\n",
      "+-------------------------------+----------------------+----------------------+\r\n",
      "                                                                               \r\n",
      "+-----------------------------------------------------------------------------+\r\n",
      "| Processes:                                                                  |\r\n",
      "|  GPU   GI   CI        PID   Type   Process name                  GPU Memory |\r\n",
      "|        ID   ID                                                   Usage      |\r\n",
      "|=============================================================================|\r\n",
      "|  No running processes found                                                 |\r\n",
      "+-----------------------------------------------------------------------------+\r\n"
     ]
    }
   ],
   "source": [
    "from psutil import *\n",
    "\n",
    "# Number of available CPU\n",
    "print(f\"CPU Count: {cpu_count()}\")\n",
    "\n",
    "# CPU Model name\n",
    "!lscpu |grep 'Model name'\n",
    "\n",
    "# CPU Ram\n",
    "ram = !free -h --si | awk '/Mem:/{print $2}'\n",
    "print(f\"CPU Ram: {ram}\")\n",
    "\n",
    "# Information of GPU\n",
    "gpus = !nvidia-smi -L\n",
    "print(f\"GPU's: {gpus}\")\n",
    "\n",
    "# GPU details Information\n",
    "!nvidia-smi"
   ]
  },
  {
   "cell_type": "markdown",
   "id": "10e9a546",
   "metadata": {
    "papermill": {
     "duration": 0.010487,
     "end_time": "2023-06-10T09:29:33.708365",
     "exception": false,
     "start_time": "2023-06-10T09:29:33.697878",
     "status": "completed"
    },
    "tags": []
   },
   "source": [
    "# Import Lib"
   ]
  },
  {
   "cell_type": "code",
   "execution_count": 2,
   "id": "eeee406d",
   "metadata": {
    "execution": {
     "iopub.execute_input": "2023-06-10T09:29:33.731491Z",
     "iopub.status.busy": "2023-06-10T09:29:33.730407Z",
     "iopub.status.idle": "2023-06-10T09:29:49.702374Z",
     "shell.execute_reply": "2023-06-10T09:29:49.701106Z"
    },
    "papermill": {
     "duration": 15.986347,
     "end_time": "2023-06-10T09:29:49.705209",
     "exception": false,
     "start_time": "2023-06-10T09:29:33.718862",
     "status": "completed"
    },
    "tags": []
   },
   "outputs": [
    {
     "name": "stdout",
     "output_type": "stream",
     "text": [
      "\u001b[31mERROR: pip's dependency resolver does not currently take into account all the packages that are installed. This behaviour is the source of the following dependency conflicts.\r\n",
      "librosa 0.10.0.post2 requires soundfile>=0.12.1, but you have soundfile 0.11.0 which is incompatible.\r\n",
      "apache-beam 2.44.0 requires dill<0.3.2,>=0.3.1.1, but you have dill 0.3.6 which is incompatible.\u001b[0m\u001b[31m\r\n",
      "\u001b[0m\u001b[33mWARNING: Running pip as the 'root' user can result in broken permissions and conflicting behaviour with the system package manager. It is recommended to use a virtual environment instead: https://pip.pypa.io/warnings/venv\u001b[0m\u001b[33m\r\n",
      "\u001b[0m"
     ]
    }
   ],
   "source": [
    "!pip install -qU googletrans==3.1.0a0"
   ]
  },
  {
   "cell_type": "code",
   "execution_count": 3,
   "id": "f8eec5c1",
   "metadata": {
    "execution": {
     "iopub.execute_input": "2023-06-10T09:29:49.727548Z",
     "iopub.status.busy": "2023-06-10T09:29:49.727214Z",
     "iopub.status.idle": "2023-06-10T09:30:01.768125Z",
     "shell.execute_reply": "2023-06-10T09:30:01.766993Z"
    },
    "papermill": {
     "duration": 12.055512,
     "end_time": "2023-06-10T09:30:01.771189",
     "exception": false,
     "start_time": "2023-06-10T09:29:49.715677",
     "status": "completed"
    },
    "tags": []
   },
   "outputs": [],
   "source": [
    "import re, string, warnings,json, random, os\n",
    "warnings.filterwarnings('ignore')\n",
    "\n",
    "from tqdm import tqdm\n",
    "# for arithmetic operation\n",
    "import numpy as np\n",
    "# for loading csv file\n",
    "import pandas as pd\n",
    "# for plotting data/EDA\n",
    "import matplotlib.pyplot as plt\n",
    "import seaborn as sns\n",
    "import plotly.express as px\n",
    "import plotly.graph_objects as go\n",
    "\n",
    "import tensorflow as tf\n",
    "\n",
    "# for google translate\n",
    "from googletrans import Translator\n",
    "\n",
    "# for multi_nli dataset\n",
    "from datasets import load_dataset"
   ]
  },
  {
   "cell_type": "markdown",
   "id": "e0fec264",
   "metadata": {
    "papermill": {
     "duration": 0.010237,
     "end_time": "2023-06-10T09:30:01.793044",
     "exception": false,
     "start_time": "2023-06-10T09:30:01.782807",
     "status": "completed"
    },
    "tags": []
   },
   "source": [
    "# Config Project"
   ]
  },
  {
   "cell_type": "code",
   "execution_count": 4,
   "id": "428277fe",
   "metadata": {
    "execution": {
     "iopub.execute_input": "2023-06-10T09:30:01.818299Z",
     "iopub.status.busy": "2023-06-10T09:30:01.816563Z",
     "iopub.status.idle": "2023-06-10T09:30:01.824871Z",
     "shell.execute_reply": "2023-06-10T09:30:01.823939Z"
    },
    "papermill": {
     "duration": 0.023909,
     "end_time": "2023-06-10T09:30:01.827170",
     "exception": false,
     "start_time": "2023-06-10T09:30:01.803261",
     "status": "completed"
    },
    "tags": []
   },
   "outputs": [],
   "source": [
    "class ConfigProject:\n",
    "    def __init__(self):\n",
    "        \n",
    "        self.project_input_dir = '/kaggle/input/contradictory-my-dear-watson/'\n",
    "        self.train_csv = self.project_input_dir+'train.csv'\n",
    "        self.test_csv = self.project_input_dir+'test.csv'\n",
    "        self.submission_csv = self.project_input_dir+'sample_submission.csv'\n",
    "        \n",
    "        self.to_train_csv = '/kaggle/working/train.csv'\n",
    "        self.to_test_csv = '/kaggle/working/test.csv'\n",
    "        self.to_submission_csv = '/kaggle/working/sample_submission.csv'\n",
    "\n",
    "conf = ConfigProject()"
   ]
  },
  {
   "cell_type": "markdown",
   "id": "471550b6",
   "metadata": {
    "papermill": {
     "duration": 0.010294,
     "end_time": "2023-06-10T09:30:01.847629",
     "exception": false,
     "start_time": "2023-06-10T09:30:01.837335",
     "status": "completed"
    },
    "tags": []
   },
   "source": [
    "# Read Dataset"
   ]
  },
  {
   "cell_type": "code",
   "execution_count": 5,
   "id": "b5fb1b78",
   "metadata": {
    "execution": {
     "iopub.execute_input": "2023-06-10T09:30:01.870166Z",
     "iopub.status.busy": "2023-06-10T09:30:01.869227Z",
     "iopub.status.idle": "2023-06-10T09:30:02.096478Z",
     "shell.execute_reply": "2023-06-10T09:30:02.095251Z"
    },
    "papermill": {
     "duration": 0.241606,
     "end_time": "2023-06-10T09:30:02.099507",
     "exception": false,
     "start_time": "2023-06-10T09:30:01.857901",
     "status": "completed"
    },
    "tags": []
   },
   "outputs": [],
   "source": [
    "train_dataset = pd.read_csv(conf.train_csv)\n",
    "test_dataset = pd.read_csv(conf.test_csv)\n",
    "sample_submission = pd.read_csv(conf.submission_csv)"
   ]
  },
  {
   "cell_type": "markdown",
   "id": "4165f5ea",
   "metadata": {
    "papermill": {
     "duration": 0.010037,
     "end_time": "2023-06-10T09:30:02.120810",
     "exception": false,
     "start_time": "2023-06-10T09:30:02.110773",
     "status": "completed"
    },
    "tags": []
   },
   "source": [
    "# General Info Of DF"
   ]
  },
  {
   "cell_type": "code",
   "execution_count": 6,
   "id": "14851372",
   "metadata": {
    "execution": {
     "iopub.execute_input": "2023-06-10T09:30:02.143705Z",
     "iopub.status.busy": "2023-06-10T09:30:02.142799Z",
     "iopub.status.idle": "2023-06-10T09:30:02.164634Z",
     "shell.execute_reply": "2023-06-10T09:30:02.163609Z"
    },
    "papermill": {
     "duration": 0.035911,
     "end_time": "2023-06-10T09:30:02.167057",
     "exception": false,
     "start_time": "2023-06-10T09:30:02.131146",
     "status": "completed"
    },
    "tags": []
   },
   "outputs": [
    {
     "data": {
      "text/html": [
       "<div>\n",
       "<style scoped>\n",
       "    .dataframe tbody tr th:only-of-type {\n",
       "        vertical-align: middle;\n",
       "    }\n",
       "\n",
       "    .dataframe tbody tr th {\n",
       "        vertical-align: top;\n",
       "    }\n",
       "\n",
       "    .dataframe thead th {\n",
       "        text-align: right;\n",
       "    }\n",
       "</style>\n",
       "<table border=\"1\" class=\"dataframe\">\n",
       "  <thead>\n",
       "    <tr style=\"text-align: right;\">\n",
       "      <th></th>\n",
       "      <th>id</th>\n",
       "      <th>premise</th>\n",
       "      <th>hypothesis</th>\n",
       "      <th>lang_abv</th>\n",
       "      <th>language</th>\n",
       "      <th>label</th>\n",
       "    </tr>\n",
       "  </thead>\n",
       "  <tbody>\n",
       "    <tr>\n",
       "      <th>0</th>\n",
       "      <td>5130fd2cb5</td>\n",
       "      <td>and these comments were considered in formulat...</td>\n",
       "      <td>The rules developed in the interim were put to...</td>\n",
       "      <td>en</td>\n",
       "      <td>English</td>\n",
       "      <td>0</td>\n",
       "    </tr>\n",
       "    <tr>\n",
       "      <th>1</th>\n",
       "      <td>5b72532a0b</td>\n",
       "      <td>These are issues that we wrestle with in pract...</td>\n",
       "      <td>Practice groups are not permitted to work on t...</td>\n",
       "      <td>en</td>\n",
       "      <td>English</td>\n",
       "      <td>2</td>\n",
       "    </tr>\n",
       "    <tr>\n",
       "      <th>2</th>\n",
       "      <td>3931fbe82a</td>\n",
       "      <td>Des petites choses comme celles-là font une di...</td>\n",
       "      <td>J'essayais d'accomplir quelque chose.</td>\n",
       "      <td>fr</td>\n",
       "      <td>French</td>\n",
       "      <td>0</td>\n",
       "    </tr>\n",
       "    <tr>\n",
       "      <th>3</th>\n",
       "      <td>5622f0c60b</td>\n",
       "      <td>you know they can't really defend themselves l...</td>\n",
       "      <td>They can't defend themselves because of their ...</td>\n",
       "      <td>en</td>\n",
       "      <td>English</td>\n",
       "      <td>0</td>\n",
       "    </tr>\n",
       "    <tr>\n",
       "      <th>4</th>\n",
       "      <td>86aaa48b45</td>\n",
       "      <td>ในการเล่นบทบาทสมมุติก็เช่นกัน โอกาสที่จะได้แสด...</td>\n",
       "      <td>เด็กสามารถเห็นได้ว่าชาติพันธุ์แตกต่างกันอย่างไร</td>\n",
       "      <td>th</td>\n",
       "      <td>Thai</td>\n",
       "      <td>1</td>\n",
       "    </tr>\n",
       "  </tbody>\n",
       "</table>\n",
       "</div>"
      ],
      "text/plain": [
       "           id                                            premise  \\\n",
       "0  5130fd2cb5  and these comments were considered in formulat...   \n",
       "1  5b72532a0b  These are issues that we wrestle with in pract...   \n",
       "2  3931fbe82a  Des petites choses comme celles-là font une di...   \n",
       "3  5622f0c60b  you know they can't really defend themselves l...   \n",
       "4  86aaa48b45  ในการเล่นบทบาทสมมุติก็เช่นกัน โอกาสที่จะได้แสด...   \n",
       "\n",
       "                                          hypothesis lang_abv language  label  \n",
       "0  The rules developed in the interim were put to...       en  English      0  \n",
       "1  Practice groups are not permitted to work on t...       en  English      2  \n",
       "2              J'essayais d'accomplir quelque chose.       fr   French      0  \n",
       "3  They can't defend themselves because of their ...       en  English      0  \n",
       "4    เด็กสามารถเห็นได้ว่าชาติพันธุ์แตกต่างกันอย่างไร       th     Thai      1  "
      ]
     },
     "execution_count": 6,
     "metadata": {},
     "output_type": "execute_result"
    }
   ],
   "source": [
    "train_dataset.head()"
   ]
  },
  {
   "cell_type": "code",
   "execution_count": 7,
   "id": "b2f52fba",
   "metadata": {
    "execution": {
     "iopub.execute_input": "2023-06-10T09:30:02.189362Z",
     "iopub.status.busy": "2023-06-10T09:30:02.189059Z",
     "iopub.status.idle": "2023-06-10T09:30:02.200831Z",
     "shell.execute_reply": "2023-06-10T09:30:02.199721Z"
    },
    "papermill": {
     "duration": 0.025816,
     "end_time": "2023-06-10T09:30:02.203457",
     "exception": false,
     "start_time": "2023-06-10T09:30:02.177641",
     "status": "completed"
    },
    "tags": []
   },
   "outputs": [
    {
     "data": {
      "text/html": [
       "<div>\n",
       "<style scoped>\n",
       "    .dataframe tbody tr th:only-of-type {\n",
       "        vertical-align: middle;\n",
       "    }\n",
       "\n",
       "    .dataframe tbody tr th {\n",
       "        vertical-align: top;\n",
       "    }\n",
       "\n",
       "    .dataframe thead th {\n",
       "        text-align: right;\n",
       "    }\n",
       "</style>\n",
       "<table border=\"1\" class=\"dataframe\">\n",
       "  <thead>\n",
       "    <tr style=\"text-align: right;\">\n",
       "      <th></th>\n",
       "      <th>id</th>\n",
       "      <th>premise</th>\n",
       "      <th>hypothesis</th>\n",
       "      <th>lang_abv</th>\n",
       "      <th>language</th>\n",
       "    </tr>\n",
       "  </thead>\n",
       "  <tbody>\n",
       "    <tr>\n",
       "      <th>0</th>\n",
       "      <td>c6d58c3f69</td>\n",
       "      <td>بکس، کیسی، راہیل، یسعیاہ، کیلی، کیلی، اور کولم...</td>\n",
       "      <td>کیسی کے لئے کوئی یادگار نہیں ہوگا, کولمین ہائی...</td>\n",
       "      <td>ur</td>\n",
       "      <td>Urdu</td>\n",
       "    </tr>\n",
       "    <tr>\n",
       "      <th>1</th>\n",
       "      <td>cefcc82292</td>\n",
       "      <td>هذا هو ما تم نصحنا به.</td>\n",
       "      <td>عندما يتم إخبارهم بما يجب عليهم فعله ، فشلت ال...</td>\n",
       "      <td>ar</td>\n",
       "      <td>Arabic</td>\n",
       "    </tr>\n",
       "    <tr>\n",
       "      <th>2</th>\n",
       "      <td>e98005252c</td>\n",
       "      <td>et cela est en grande partie dû au fait que le...</td>\n",
       "      <td>Les mères se droguent.</td>\n",
       "      <td>fr</td>\n",
       "      <td>French</td>\n",
       "    </tr>\n",
       "    <tr>\n",
       "      <th>3</th>\n",
       "      <td>58518c10ba</td>\n",
       "      <td>与城市及其他公民及社区组织代表就IMA的艺术发展进行对话&amp;amp</td>\n",
       "      <td>IMA与其他组织合作，因为它们都依靠共享资金。</td>\n",
       "      <td>zh</td>\n",
       "      <td>Chinese</td>\n",
       "    </tr>\n",
       "    <tr>\n",
       "      <th>4</th>\n",
       "      <td>c32b0d16df</td>\n",
       "      <td>Она все еще была там.</td>\n",
       "      <td>Мы думали, что она ушла, однако, она осталась.</td>\n",
       "      <td>ru</td>\n",
       "      <td>Russian</td>\n",
       "    </tr>\n",
       "  </tbody>\n",
       "</table>\n",
       "</div>"
      ],
      "text/plain": [
       "           id                                            premise  \\\n",
       "0  c6d58c3f69  بکس، کیسی، راہیل، یسعیاہ، کیلی، کیلی، اور کولم...   \n",
       "1  cefcc82292                             هذا هو ما تم نصحنا به.   \n",
       "2  e98005252c  et cela est en grande partie dû au fait que le...   \n",
       "3  58518c10ba                   与城市及其他公民及社区组织代表就IMA的艺术发展进行对话&amp   \n",
       "4  c32b0d16df                              Она все еще была там.   \n",
       "\n",
       "                                          hypothesis lang_abv language  \n",
       "0  کیسی کے لئے کوئی یادگار نہیں ہوگا, کولمین ہائی...       ur     Urdu  \n",
       "1  عندما يتم إخبارهم بما يجب عليهم فعله ، فشلت ال...       ar   Arabic  \n",
       "2                             Les mères se droguent.       fr   French  \n",
       "3                            IMA与其他组织合作，因为它们都依靠共享资金。       zh  Chinese  \n",
       "4     Мы думали, что она ушла, однако, она осталась.       ru  Russian  "
      ]
     },
     "execution_count": 7,
     "metadata": {},
     "output_type": "execute_result"
    }
   ],
   "source": [
    "test_dataset.head()"
   ]
  },
  {
   "cell_type": "code",
   "execution_count": 8,
   "id": "2b313dd1",
   "metadata": {
    "execution": {
     "iopub.execute_input": "2023-06-10T09:30:02.226377Z",
     "iopub.status.busy": "2023-06-10T09:30:02.226067Z",
     "iopub.status.idle": "2023-06-10T09:30:02.235081Z",
     "shell.execute_reply": "2023-06-10T09:30:02.234078Z"
    },
    "papermill": {
     "duration": 0.023092,
     "end_time": "2023-06-10T09:30:02.237337",
     "exception": false,
     "start_time": "2023-06-10T09:30:02.214245",
     "status": "completed"
    },
    "tags": []
   },
   "outputs": [
    {
     "data": {
      "text/html": [
       "<div>\n",
       "<style scoped>\n",
       "    .dataframe tbody tr th:only-of-type {\n",
       "        vertical-align: middle;\n",
       "    }\n",
       "\n",
       "    .dataframe tbody tr th {\n",
       "        vertical-align: top;\n",
       "    }\n",
       "\n",
       "    .dataframe thead th {\n",
       "        text-align: right;\n",
       "    }\n",
       "</style>\n",
       "<table border=\"1\" class=\"dataframe\">\n",
       "  <thead>\n",
       "    <tr style=\"text-align: right;\">\n",
       "      <th></th>\n",
       "      <th>id</th>\n",
       "      <th>prediction</th>\n",
       "    </tr>\n",
       "  </thead>\n",
       "  <tbody>\n",
       "    <tr>\n",
       "      <th>0</th>\n",
       "      <td>c6d58c3f69</td>\n",
       "      <td>1</td>\n",
       "    </tr>\n",
       "    <tr>\n",
       "      <th>1</th>\n",
       "      <td>cefcc82292</td>\n",
       "      <td>1</td>\n",
       "    </tr>\n",
       "    <tr>\n",
       "      <th>2</th>\n",
       "      <td>e98005252c</td>\n",
       "      <td>1</td>\n",
       "    </tr>\n",
       "    <tr>\n",
       "      <th>3</th>\n",
       "      <td>58518c10ba</td>\n",
       "      <td>1</td>\n",
       "    </tr>\n",
       "    <tr>\n",
       "      <th>4</th>\n",
       "      <td>c32b0d16df</td>\n",
       "      <td>1</td>\n",
       "    </tr>\n",
       "  </tbody>\n",
       "</table>\n",
       "</div>"
      ],
      "text/plain": [
       "           id  prediction\n",
       "0  c6d58c3f69           1\n",
       "1  cefcc82292           1\n",
       "2  e98005252c           1\n",
       "3  58518c10ba           1\n",
       "4  c32b0d16df           1"
      ]
     },
     "execution_count": 8,
     "metadata": {},
     "output_type": "execute_result"
    }
   ],
   "source": [
    "sample_submission.head()"
   ]
  },
  {
   "cell_type": "markdown",
   "id": "7c9952c9",
   "metadata": {
    "papermill": {
     "duration": 0.010595,
     "end_time": "2023-06-10T09:30:02.258833",
     "exception": false,
     "start_time": "2023-06-10T09:30:02.248238",
     "status": "completed"
    },
    "tags": []
   },
   "source": [
    "**Shape Of DF**"
   ]
  },
  {
   "cell_type": "code",
   "execution_count": 9,
   "id": "511fd2a2",
   "metadata": {
    "execution": {
     "iopub.execute_input": "2023-06-10T09:30:02.282435Z",
     "iopub.status.busy": "2023-06-10T09:30:02.281609Z",
     "iopub.status.idle": "2023-06-10T09:30:02.288019Z",
     "shell.execute_reply": "2023-06-10T09:30:02.286588Z"
    },
    "papermill": {
     "duration": 0.020441,
     "end_time": "2023-06-10T09:30:02.290296",
     "exception": false,
     "start_time": "2023-06-10T09:30:02.269855",
     "status": "completed"
    },
    "tags": []
   },
   "outputs": [
    {
     "name": "stdout",
     "output_type": "stream",
     "text": [
      "(12120, 6) (5195, 5)\n"
     ]
    }
   ],
   "source": [
    "print(train_dataset.shape, test_dataset.shape)"
   ]
  },
  {
   "cell_type": "markdown",
   "id": "6ef505e6",
   "metadata": {
    "papermill": {
     "duration": 0.01092,
     "end_time": "2023-06-10T09:30:02.312480",
     "exception": false,
     "start_time": "2023-06-10T09:30:02.301560",
     "status": "completed"
    },
    "tags": []
   },
   "source": [
    "## Information of DF"
   ]
  },
  {
   "cell_type": "code",
   "execution_count": 10,
   "id": "3ab0671d",
   "metadata": {
    "execution": {
     "iopub.execute_input": "2023-06-10T09:30:02.336256Z",
     "iopub.status.busy": "2023-06-10T09:30:02.335969Z",
     "iopub.status.idle": "2023-06-10T09:30:02.365155Z",
     "shell.execute_reply": "2023-06-10T09:30:02.364104Z"
    },
    "papermill": {
     "duration": 0.043963,
     "end_time": "2023-06-10T09:30:02.367954",
     "exception": false,
     "start_time": "2023-06-10T09:30:02.323991",
     "status": "completed"
    },
    "tags": []
   },
   "outputs": [
    {
     "name": "stdout",
     "output_type": "stream",
     "text": [
      "<class 'pandas.core.frame.DataFrame'>\n",
      "RangeIndex: 12120 entries, 0 to 12119\n",
      "Data columns (total 6 columns):\n",
      " #   Column      Non-Null Count  Dtype \n",
      "---  ------      --------------  ----- \n",
      " 0   id          12120 non-null  object\n",
      " 1   premise     12120 non-null  object\n",
      " 2   hypothesis  12120 non-null  object\n",
      " 3   lang_abv    12120 non-null  object\n",
      " 4   language    12120 non-null  object\n",
      " 5   label       12120 non-null  int64 \n",
      "dtypes: int64(1), object(5)\n",
      "memory usage: 568.2+ KB\n"
     ]
    }
   ],
   "source": [
    "train_dataset.info()"
   ]
  },
  {
   "cell_type": "code",
   "execution_count": 11,
   "id": "6c5f9ef2",
   "metadata": {
    "execution": {
     "iopub.execute_input": "2023-06-10T09:30:02.393256Z",
     "iopub.status.busy": "2023-06-10T09:30:02.392965Z",
     "iopub.status.idle": "2023-06-10T09:30:02.407140Z",
     "shell.execute_reply": "2023-06-10T09:30:02.405450Z"
    },
    "papermill": {
     "duration": 0.029429,
     "end_time": "2023-06-10T09:30:02.409428",
     "exception": false,
     "start_time": "2023-06-10T09:30:02.379999",
     "status": "completed"
    },
    "tags": []
   },
   "outputs": [
    {
     "name": "stdout",
     "output_type": "stream",
     "text": [
      "<class 'pandas.core.frame.DataFrame'>\n",
      "RangeIndex: 5195 entries, 0 to 5194\n",
      "Data columns (total 5 columns):\n",
      " #   Column      Non-Null Count  Dtype \n",
      "---  ------      --------------  ----- \n",
      " 0   id          5195 non-null   object\n",
      " 1   premise     5195 non-null   object\n",
      " 2   hypothesis  5195 non-null   object\n",
      " 3   lang_abv    5195 non-null   object\n",
      " 4   language    5195 non-null   object\n",
      "dtypes: object(5)\n",
      "memory usage: 203.1+ KB\n"
     ]
    }
   ],
   "source": [
    "test_dataset.info()"
   ]
  },
  {
   "cell_type": "markdown",
   "id": "0efdbd9f",
   "metadata": {
    "papermill": {
     "duration": 0.011143,
     "end_time": "2023-06-10T09:30:02.431974",
     "exception": false,
     "start_time": "2023-06-10T09:30:02.420831",
     "status": "completed"
    },
    "tags": []
   },
   "source": [
    "# EDA"
   ]
  },
  {
   "cell_type": "markdown",
   "id": "0383e04b",
   "metadata": {
    "papermill": {
     "duration": 0.010913,
     "end_time": "2023-06-10T09:30:02.454182",
     "exception": false,
     "start_time": "2023-06-10T09:30:02.443269",
     "status": "completed"
    },
    "tags": []
   },
   "source": [
    "### Function Plot"
   ]
  },
  {
   "cell_type": "code",
   "execution_count": 12,
   "id": "6716aef8",
   "metadata": {
    "execution": {
     "iopub.execute_input": "2023-06-10T09:30:02.477734Z",
     "iopub.status.busy": "2023-06-10T09:30:02.477445Z",
     "iopub.status.idle": "2023-06-10T09:30:02.497617Z",
     "shell.execute_reply": "2023-06-10T09:30:02.496631Z"
    },
    "papermill": {
     "duration": 0.03458,
     "end_time": "2023-06-10T09:30:02.499897",
     "exception": false,
     "start_time": "2023-06-10T09:30:02.465317",
     "status": "completed"
    },
    "tags": []
   },
   "outputs": [],
   "source": [
    "class Plotting:\n",
    "    \n",
    "    @classmethod\n",
    "    def label_plot(self, data,plot_title='Label Count Plot'):\n",
    "        fig, ax = plt.subplots(figsize=(10, 5))\n",
    "        data['label'].value_counts().plot(ax=ax,kind='bar', cmap='cividis')\n",
    "        plt.grid(color='gray',linestyle='--',linewidth=0.2)\n",
    "        ax.set_facecolor('#d8dcd6')\n",
    "        plt.title(plot_title, fontsize='18')\n",
    "        plt.xticks(rotation=45)\n",
    "    \n",
    "    @classmethod\n",
    "    def language_plot(self, data, plot_title='Label Count per Language'):\n",
    "        fig, ax = plt.subplots(figsize=(10, 5))\n",
    "        data.groupby(['language','label']).count()['premise'].unstack().plot(ax=ax,kind='bar', cmap='cividis')\n",
    "        plt.grid(color='gray',linestyle='--',linewidth=0.2)\n",
    "        ax.set_facecolor('#d8dcd6')\n",
    "        plt.title(plot_title, fontsize='18')\n",
    "        plt.xticks(rotation=45)\n",
    "\n",
    "    @classmethod\n",
    "    def language_pie_plot(self, data, plot_title='Language Count'):\n",
    "        df = pd.DataFrame({\"count\": data.language.value_counts() })\n",
    "        fig = px.pie(df, values='count', names=df.index, title=f'{plot_title} %',\n",
    "                 labels={'index':'lang'}, color_discrete_sequence=px.colors.diverging.Earth)\n",
    "        fig.update_traces(textinfo='percent')\n",
    "        fig.show()\n",
    "        \n",
    "    @classmethod\n",
    "    def word_plot(self, data, plot_title='Word Count'):\n",
    "        number_of_word_premise = data['premise'].apply(lambda x: len(x.split(\" \")))\n",
    "        number_of_word_hypothesis = data['hypothesis'].apply(lambda x: len(x.split(\" \")))\n",
    "        fig, ax = plt.subplots(figsize=(10, 5))\n",
    "        sns.kdeplot(data=number_of_word_premise,\n",
    "                color='crimson', label='Premise', fill=True, ax=ax)\n",
    "        sns.kdeplot(data=number_of_word_hypothesis,\n",
    "                color='limegreen', label='Hypothesis', fill=True, ax=ax)\n",
    "        ax.legend()\n",
    "        plt.tight_layout()\n",
    "        plt.title(plot_title)\n",
    "        plt.show()\n",
    "\n",
    "    @classmethod\n",
    "    def char_plot(self, data, plot_title='Character Count'):\n",
    "        number_of_char_premise = train_dataset['premise'].apply(lambda x: len(x))\n",
    "        number_of_char_hypothesis = train_dataset['hypothesis'].apply(lambda x: len(x))\n",
    "        fig, ax = plt.subplots(figsize=(10, 5))\n",
    "        sns.kdeplot(data=number_of_char_premise,\n",
    "                color='crimson', label='Premise', fill=True, ax=ax)\n",
    "        sns.kdeplot(data=number_of_char_hypothesis,\n",
    "                color='limegreen', label='Hypothesis', fill=True, ax=ax)\n",
    "        ax.legend()\n",
    "        plt.tight_layout()\n",
    "        plt.title(plot_title)\n",
    "        plt.show()\n",
    "\n",
    "c_plot = Plotting()"
   ]
  },
  {
   "cell_type": "markdown",
   "id": "f9e25a36",
   "metadata": {
    "papermill": {
     "duration": 0.011231,
     "end_time": "2023-06-10T09:30:02.522320",
     "exception": false,
     "start_time": "2023-06-10T09:30:02.511089",
     "status": "completed"
    },
    "tags": []
   },
   "source": [
    "### Train Dataset EDA"
   ]
  },
  {
   "cell_type": "code",
   "execution_count": 13,
   "id": "670c9e71",
   "metadata": {
    "execution": {
     "iopub.execute_input": "2023-06-10T09:30:02.548699Z",
     "iopub.status.busy": "2023-06-10T09:30:02.547786Z",
     "iopub.status.idle": "2023-06-10T09:30:02.828327Z",
     "shell.execute_reply": "2023-06-10T09:30:02.827193Z"
    },
    "papermill": {
     "duration": 0.297098,
     "end_time": "2023-06-10T09:30:02.831668",
     "exception": false,
     "start_time": "2023-06-10T09:30:02.534570",
     "status": "completed"
    },
    "tags": []
   },
   "outputs": [
    {
     "data": {
      "image/png": "[encoded data removed]",
      "text/plain": [
       "<Figure size 1000x500 with 1 Axes>"
      ]
     },
     "metadata": {},
     "output_type": "display_data"
    }
   ],
   "source": [
    "c_plot.label_plot(train_dataset,'Train dataset labels')"
   ]
  },
  {
   "cell_type": "code",
   "execution_count": 14,
   "id": "142e04e0",
   "metadata": {
    "execution": {
     "iopub.execute_input": "2023-06-10T09:30:02.877050Z",
     "iopub.status.busy": "2023-06-10T09:30:02.876432Z",
     "iopub.status.idle": "2023-06-10T09:30:03.401146Z",
     "shell.execute_reply": "2023-06-10T09:30:03.400001Z"
    },
    "papermill": {
     "duration": 0.548874,
     "end_time": "2023-06-10T09:30:03.403840",
     "exception": false,
     "start_time": "2023-06-10T09:30:02.854966",
     "status": "completed"
    },
    "tags": []
   },
   "outputs": [
    {
     "data": {
      "image/png": "[encoded data removed]",
      "text/plain": [
       "<Figure size 1000x500 with 1 Axes>"
      ]
     },
     "metadata": {},
     "output_type": "display_data"
    }
   ],
   "source": [
    "c_plot.language_plot(train_dataset,'Language Count [Train Dataset]')"
   ]
  },
  {
   "cell_type": "code",
   "execution_count": 15,
   "id": "c546deb6",
   "metadata": {
    "execution": {
     "iopub.execute_input": "2023-06-10T09:30:03.431781Z",
     "iopub.status.busy": "2023-06-10T09:30:03.431443Z",
     "iopub.status.idle": "2023-06-10T09:30:05.000295Z",
     "shell.execute_reply": "2023-06-10T09:30:04.999327Z"
    },
    "papermill": {
     "duration": 1.585574,
     "end_time": "2023-06-10T09:30:05.002863",
     "exception": false,
     "start_time": "2023-06-10T09:30:03.417289",
     "status": "completed"
    },
    "tags": []
   },
   "outputs": [
    {
     "data": {
      "text/html": [
       "        <script type=\"text/javascript\">\n",
       "        window.PlotlyConfig = {MathJaxConfig: 'local'};\n",
       "        if (window.MathJax && window.MathJax.Hub && window.MathJax.Hub.Config) {window.MathJax.Hub.Config({SVG: {font: \"STIX-Web\"}});}\n",
       "        if (typeof require !== 'undefined') {\n",
       "        require.undef(\"plotly\");\n",
       "        requirejs.config({\n",
       "            paths: {\n",
       "                'plotly': ['https://cdn.plot.ly/plotly-2.18.0.min']\n",
       "            }\n",
       "        });\n",
       "        require(['plotly'], function(Plotly) {\n",
       "            window._Plotly = Plotly;\n",
       "        });\n",
       "        }\n",
       "        </script>\n",
       "        "
      ]
     },
     "metadata": {},
     "output_type": "display_data"
    },
    {
     "data": {
      "text/html": [
       "<div>                            <div id=\"72db15f7-9ec6-4da5-8168-a84a19c9a7dc\" class=\"plotly-graph-div\" style=\"height:525px; width:100%;\"></div>            <script type=\"text/javascript\">                require([\"plotly\"], function(Plotly) {                    window.PLOTLYENV=window.PLOTLYENV || {};                                    if (document.getElementById(\"72db15f7-9ec6-4da5-8168-a84a19c9a7dc\")) {                    Plotly.newPlot(                        \"72db15f7-9ec6-4da5-8168-a84a19c9a7dc\",                        [{\"domain\":{\"x\":[0.0,1.0],\"y\":[0.0,1.0]},\"hovertemplate\":\"lang=%{label}<br>count=%{value}<extra></extra>\",\"labels\":[\"English\",\"Chinese\",\"Arabic\",\"French\",\"Swahili\",\"Urdu\",\"Vietnamese\",\"Russian\",\"Hindi\",\"Greek\",\"Thai\",\"Spanish\",\"Turkish\",\"German\",\"Bulgarian\"],\"legendgroup\":\"\",\"name\":\"\",\"showlegend\":true,\"values\":[6870,411,401,390,385,381,379,376,374,372,371,366,351,351,342],\"type\":\"pie\",\"textinfo\":\"percent\"}],                        {\"template\":{\"data\":{\"histogram2dcontour\":[{\"type\":\"histogram2dcontour\",\"colorbar\":{\"outlinewidth\":0,\"ticks\":\"\"},\"colorscale\":[[0.0,\"#0d0887\"],[0.1111111111111111,\"#46039f\"],[0.2222222222222222,\"#7201a8\"],[0.3333333333333333,\"#9c179e\"],[0.4444444444444444,\"#bd3786\"],[0.5555555555555556,\"#d8576b\"],[0.6666666666666666,\"#ed7953\"],[0.7777777777777778,\"#fb9f3a\"],[0.8888888888888888,\"#fdca26\"],[1.0,\"#f0f921\"]]}],\"choropleth\":[{\"type\":\"choropleth\",\"colorbar\":{\"outlinewidth\":0,\"ticks\":\"\"}}],\"histogram2d\":[{\"type\":\"histogram2d\",\"colorbar\":{\"outlinewidth\":0,\"ticks\":\"\"},\"colorscale\":[[0.0,\"#0d0887\"],[0.1111111111111111,\"#46039f\"],[0.2222222222222222,\"#7201a8\"],[0.3333333333333333,\"#9c179e\"],[0.4444444444444444,\"#bd3786\"],[0.5555555555555556,\"#d8576b\"],[0.6666666666666666,\"#ed7953\"],[0.7777777777777778,\"#fb9f3a\"],[0.8888888888888888,\"#fdca26\"],[1.0,\"#f0f921\"]]}],\"heatmap\":[{\"type\":\"heatmap\",\"colorbar\":{\"outlinewidth\":0,\"ticks\":\"\"},\"colorscale\":[[0.0,\"#0d0887\"],[0.1111111111111111,\"#46039f\"],[0.2222222222222222,\"#7201a8\"],[0.3333333333333333,\"#9c179e\"],[0.4444444444444444,\"#bd3786\"],[0.5555555555555556,\"#d8576b\"],[0.6666666666666666,\"#ed7953\"],[0.7777777777777778,\"#fb9f3a\"],[0.8888888888888888,\"#fdca26\"],[1.0,\"#f0f921\"]]}],\"heatmapgl\":[{\"type\":\"heatmapgl\",\"colorbar\":{\"outlinewidth\":0,\"ticks\":\"\"},\"colorscale\":[[0.0,\"#0d0887\"],[0.1111111111111111,\"#46039f\"],[0.2222222222222222,\"#7201a8\"],[0.3333333333333333,\"#9c179e\"],[0.4444444444444444,\"#bd3786\"],[0.5555555555555556,\"#d8576b\"],[0.6666666666666666,\"#ed7953\"],[0.7777777777777778,\"#fb9f3a\"],[0.8888888888888888,\"#fdca26\"],[1.0,\"#f0f921\"]]}],\"contourcarpet\":[{\"type\":\"contourcarpet\",\"colorbar\":{\"outlinewidth\":0,\"ticks\":\"\"}}],\"contour\":[{\"type\":\"contour\",\"colorbar\":{\"outlinewidth\":0,\"ticks\":\"\"},\"colorscale\":[[0.0,\"#0d0887\"],[0.1111111111111111,\"#46039f\"],[0.2222222222222222,\"#7201a8\"],[0.3333333333333333,\"#9c179e\"],[0.4444444444444444,\"#bd3786\"],[0.5555555555555556,\"#d8576b\"],[0.6666666666666666,\"#ed7953\"],[0.7777777777777778,\"#fb9f3a\"],[0.8888888888888888,\"#fdca26\"],[1.0,\"#f0f921\"]]}],\"surface\":[{\"type\":\"surface\",\"colorbar\":{\"outlinewidth\":0,\"ticks\":\"\"},\"colorscale\":[[0.0,\"#0d0887\"],[0.1111111111111111,\"#46039f\"],[0.2222222222222222,\"#7201a8\"],[0.3333333333333333,\"#9c179e\"],[0.4444444444444444,\"#bd3786\"],[0.5555555555555556,\"#d8576b\"],[0.6666666666666666,\"#ed7953\"],[0.7777777777777778,\"#fb9f3a\"],[0.8888888888888888,\"#fdca26\"],[1.0,\"#f0f921\"]]}],\"mesh3d\":[{\"type\":\"mesh3d\",\"colorbar\":{\"outlinewidth\":0,\"ticks\":\"\"}}],\"scatter\":[{\"fillpattern\":{\"fillmode\":\"overlay\",\"size\":10,\"solidity\":0.2},\"type\":\"scatter\"}],\"parcoords\":[{\"type\":\"parcoords\",\"line\":{\"colorbar\":{\"outlinewidth\":0,\"ticks\":\"\"}}}],\"scatterpolargl\":[{\"type\":\"scatterpolargl\",\"marker\":{\"colorbar\":{\"outlinewidth\":0,\"ticks\":\"\"}}}],\"bar\":[{\"error_x\":{\"color\":\"#2a3f5f\"},\"error_y\":{\"color\":\"#2a3f5f\"},\"marker\":{\"line\":{\"color\":\"#E5ECF6\",\"width\":0.5},\"pattern\":{\"fillmode\":\"overlay\",\"size\":10,\"solidity\":0.2}},\"type\":\"bar\"}],\"scattergeo\":[{\"type\":\"scattergeo\",\"marker\":{\"colorbar\":{\"outlinewidth\":0,\"ticks\":\"\"}}}],\"scatterpolar\":[{\"type\":\"scatterpolar\",\"marker\":{\"colorbar\":{\"outlinewidth\":0,\"ticks\":\"\"}}}],\"histogram\":[{\"marker\":{\"pattern\":{\"fillmode\":\"overlay\",\"size\":10,\"solidity\":0.2}},\"type\":\"histogram\"}],\"scattergl\":[{\"type\":\"scattergl\",\"marker\":{\"colorbar\":{\"outlinewidth\":0,\"ticks\":\"\"}}}],\"scatter3d\":[{\"type\":\"scatter3d\",\"line\":{\"colorbar\":{\"outlinewidth\":0,\"ticks\":\"\"}},\"marker\":{\"colorbar\":{\"outlinewidth\":0,\"ticks\":\"\"}}}],\"scattermapbox\":[{\"type\":\"scattermapbox\",\"marker\":{\"colorbar\":{\"outlinewidth\":0,\"ticks\":\"\"}}}],\"scatterternary\":[{\"type\":\"scatterternary\",\"marker\":{\"colorbar\":{\"outlinewidth\":0,\"ticks\":\"\"}}}],\"scattercarpet\":[{\"type\":\"scattercarpet\",\"marker\":{\"colorbar\":{\"outlinewidth\":0,\"ticks\":\"\"}}}],\"carpet\":[{\"aaxis\":{\"endlinecolor\":\"#2a3f5f\",\"gridcolor\":\"white\",\"linecolor\":\"white\",\"minorgridcolor\":\"white\",\"startlinecolor\":\"#2a3f5f\"},\"baxis\":{\"endlinecolor\":\"#2a3f5f\",\"gridcolor\":\"white\",\"linecolor\":\"white\",\"minorgridcolor\":\"white\",\"startlinecolor\":\"#2a3f5f\"},\"type\":\"carpet\"}],\"table\":[{\"cells\":{\"fill\":{\"color\":\"#EBF0F8\"},\"line\":{\"color\":\"white\"}},\"header\":{\"fill\":{\"color\":\"#C8D4E3\"},\"line\":{\"color\":\"white\"}},\"type\":\"table\"}],\"barpolar\":[{\"marker\":{\"line\":{\"color\":\"#E5ECF6\",\"width\":0.5},\"pattern\":{\"fillmode\":\"overlay\",\"size\":10,\"solidity\":0.2}},\"type\":\"barpolar\"}],\"pie\":[{\"automargin\":true,\"type\":\"pie\"}]},\"layout\":{\"autotypenumbers\":\"strict\",\"colorway\":[\"#636efa\",\"#EF553B\",\"#00cc96\",\"#ab63fa\",\"#FFA15A\",\"#19d3f3\",\"#FF6692\",\"#B6E880\",\"#FF97FF\",\"#FECB52\"],\"font\":{\"color\":\"#2a3f5f\"},\"hovermode\":\"closest\",\"hoverlabel\":{\"align\":\"left\"},\"paper_bgcolor\":\"white\",\"plot_bgcolor\":\"#E5ECF6\",\"polar\":{\"bgcolor\":\"#E5ECF6\",\"angularaxis\":{\"gridcolor\":\"white\",\"linecolor\":\"white\",\"ticks\":\"\"},\"radialaxis\":{\"gridcolor\":\"white\",\"linecolor\":\"white\",\"ticks\":\"\"}},\"ternary\":{\"bgcolor\":\"#E5ECF6\",\"aaxis\":{\"gridcolor\":\"white\",\"linecolor\":\"white\",\"ticks\":\"\"},\"baxis\":{\"gridcolor\":\"white\",\"linecolor\":\"white\",\"ticks\":\"\"},\"caxis\":{\"gridcolor\":\"white\",\"linecolor\":\"white\",\"ticks\":\"\"}},\"coloraxis\":{\"colorbar\":{\"outlinewidth\":0,\"ticks\":\"\"}},\"colorscale\":{\"sequential\":[[0.0,\"#0d0887\"],[0.1111111111111111,\"#46039f\"],[0.2222222222222222,\"#7201a8\"],[0.3333333333333333,\"#9c179e\"],[0.4444444444444444,\"#bd3786\"],[0.5555555555555556,\"#d8576b\"],[0.6666666666666666,\"#ed7953\"],[0.7777777777777778,\"#fb9f3a\"],[0.8888888888888888,\"#fdca26\"],[1.0,\"#f0f921\"]],\"sequentialminus\":[[0.0,\"#0d0887\"],[0.1111111111111111,\"#46039f\"],[0.2222222222222222,\"#7201a8\"],[0.3333333333333333,\"#9c179e\"],[0.4444444444444444,\"#bd3786\"],[0.5555555555555556,\"#d8576b\"],[0.6666666666666666,\"#ed7953\"],[0.7777777777777778,\"#fb9f3a\"],[0.8888888888888888,\"#fdca26\"],[1.0,\"#f0f921\"]],\"diverging\":[[0,\"#8e0152\"],[0.1,\"#c51b7d\"],[0.2,\"#de77ae\"],[0.3,\"#f1b6da\"],[0.4,\"#fde0ef\"],[0.5,\"#f7f7f7\"],[0.6,\"#e6f5d0\"],[0.7,\"#b8e186\"],[0.8,\"#7fbc41\"],[0.9,\"#4d9221\"],[1,\"#276419\"]]},\"xaxis\":{\"gridcolor\":\"white\",\"linecolor\":\"white\",\"ticks\":\"\",\"title\":{\"standoff\":15},\"zerolinecolor\":\"white\",\"automargin\":true,\"zerolinewidth\":2},\"yaxis\":{\"gridcolor\":\"white\",\"linecolor\":\"white\",\"ticks\":\"\",\"title\":{\"standoff\":15},\"zerolinecolor\":\"white\",\"automargin\":true,\"zerolinewidth\":2},\"scene\":{\"xaxis\":{\"backgroundcolor\":\"#E5ECF6\",\"gridcolor\":\"white\",\"linecolor\":\"white\",\"showbackground\":true,\"ticks\":\"\",\"zerolinecolor\":\"white\",\"gridwidth\":2},\"yaxis\":{\"backgroundcolor\":\"#E5ECF6\",\"gridcolor\":\"white\",\"linecolor\":\"white\",\"showbackground\":true,\"ticks\":\"\",\"zerolinecolor\":\"white\",\"gridwidth\":2},\"zaxis\":{\"backgroundcolor\":\"#E5ECF6\",\"gridcolor\":\"white\",\"linecolor\":\"white\",\"showbackground\":true,\"ticks\":\"\",\"zerolinecolor\":\"white\",\"gridwidth\":2}},\"shapedefaults\":{\"line\":{\"color\":\"#2a3f5f\"}},\"annotationdefaults\":{\"arrowcolor\":\"#2a3f5f\",\"arrowhead\":0,\"arrowwidth\":1},\"geo\":{\"bgcolor\":\"white\",\"landcolor\":\"#E5ECF6\",\"subunitcolor\":\"white\",\"showland\":true,\"showlakes\":true,\"lakecolor\":\"white\"},\"title\":{\"x\":0.05},\"mapbox\":{\"style\":\"light\"}}},\"legend\":{\"tracegroupgap\":0},\"title\":{\"text\":\"Language Count [Train Dataset] %\"},\"piecolorway\":[\"rgb(161, 105, 40)\",\"rgb(189, 146, 90)\",\"rgb(214, 189, 141)\",\"rgb(237, 234, 194)\",\"rgb(181, 200, 184)\",\"rgb(121, 167, 172)\",\"rgb(40, 135, 161)\"]},                        {\"responsive\": true}                    ).then(function(){\n",
       "                            \n",
       "var gd = document.getElementById('72db15f7-9ec6-4da5-8168-a84a19c9a7dc');\n",
       "var x = new MutationObserver(function (mutations, observer) {{\n",
       "        var display = window.getComputedStyle(gd).display;\n",
       "        if (!display || display === 'none') {{\n",
       "            console.log([gd, 'removed!']);\n",
       "            Plotly.purge(gd);\n",
       "            observer.disconnect();\n",
       "        }}\n",
       "}});\n",
       "\n",
       "// Listen for the removal of the full notebook cells\n",
       "var notebookContainer = gd.closest('#notebook-container');\n",
       "if (notebookContainer) {{\n",
       "    x.observe(notebookContainer, {childList: true});\n",
       "}}\n",
       "\n",
       "// Listen for the clearing of the current output cell\n",
       "var outputEl = gd.closest('.output');\n",
       "if (outputEl) {{\n",
       "    x.observe(outputEl, {childList: true});\n",
       "}}\n",
       "\n",
       "                        })                };                });            </script>        </div>"
      ]
     },
     "metadata": {},
     "output_type": "display_data"
    }
   ],
   "source": [
    "# plot of languages percents\n",
    "c_plot.language_pie_plot(train_dataset,'Language Count [Train Dataset]')"
   ]
  },
  {
   "cell_type": "code",
   "execution_count": 16,
   "id": "a5bc59ab",
   "metadata": {
    "execution": {
     "iopub.execute_input": "2023-06-10T09:30:05.030905Z",
     "iopub.status.busy": "2023-06-10T09:30:05.030058Z",
     "iopub.status.idle": "2023-06-10T09:30:05.619889Z",
     "shell.execute_reply": "2023-06-10T09:30:05.618884Z"
    },
    "papermill": {
     "duration": 0.606299,
     "end_time": "2023-06-10T09:30:05.622339",
     "exception": false,
     "start_time": "2023-06-10T09:30:05.016040",
     "status": "completed"
    },
    "tags": []
   },
   "outputs": [
    {
     "data": {
      "image/png": "[encoded data removed]",
      "text/plain": [
       "<Figure size 1000x500 with 1 Axes>"
      ]
     },
     "metadata": {},
     "output_type": "display_data"
    }
   ],
   "source": [
    "c_plot.word_plot(train_dataset,'Word Count [Train Dataset]')"
   ]
  },
  {
   "cell_type": "code",
   "execution_count": 17,
   "id": "ed1e3c2e",
   "metadata": {
    "execution": {
     "iopub.execute_input": "2023-06-10T09:30:05.653177Z",
     "iopub.status.busy": "2023-06-10T09:30:05.651255Z",
     "iopub.status.idle": "2023-06-10T09:30:06.332687Z",
     "shell.execute_reply": "2023-06-10T09:30:06.331635Z"
    },
    "papermill": {
     "duration": 0.699753,
     "end_time": "2023-06-10T09:30:06.336370",
     "exception": false,
     "start_time": "2023-06-10T09:30:05.636617",
     "status": "completed"
    },
    "tags": []
   },
   "outputs": [
    {
     "data": {
      "image/png": "[encoded data removed]",
      "text/plain": [
       "<Figure size 1000x500 with 1 Axes>"
      ]
     },
     "metadata": {},
     "output_type": "display_data"
    }
   ],
   "source": [
    "c_plot.char_plot(train_dataset, 'Character Count [Train Dataset]')"
   ]
  },
  {
   "cell_type": "markdown",
   "id": "e93df63e",
   "metadata": {
    "papermill": {
     "duration": 0.020003,
     "end_time": "2023-06-10T09:30:06.377723",
     "exception": false,
     "start_time": "2023-06-10T09:30:06.357720",
     "status": "completed"
    },
    "tags": []
   },
   "source": [
    "# Data Augmentation"
   ]
  },
  {
   "cell_type": "markdown",
   "id": "f1d0f4b7",
   "metadata": {
    "papermill": {
     "duration": 0.020458,
     "end_time": "2023-06-10T09:30:06.419094",
     "exception": false,
     "start_time": "2023-06-10T09:30:06.398636",
     "status": "completed"
    },
    "tags": []
   },
   "source": [
    "**In the dataset, the label is not balanced**\n",
    "* So we need to balance the dataset using google translate\n",
    "* To make balance dataset,\n",
    "    * Translate all [English] text to [Non-English]\n",
    "    * Translate all [Non-English] text to [English]\n",
    " "
   ]
  },
  {
   "cell_type": "code",
   "execution_count": 18,
   "id": "ad954347",
   "metadata": {
    "execution": {
     "iopub.execute_input": "2023-06-10T09:30:06.461246Z",
     "iopub.status.busy": "2023-06-10T09:30:06.460654Z",
     "iopub.status.idle": "2023-06-10T09:30:06.485616Z",
     "shell.execute_reply": "2023-06-10T09:30:06.484655Z"
    },
    "papermill": {
     "duration": 0.049285,
     "end_time": "2023-06-10T09:30:06.488690",
     "exception": false,
     "start_time": "2023-06-10T09:30:06.439405",
     "status": "completed"
    },
    "tags": []
   },
   "outputs": [],
   "source": [
    "class DataAugmentation:\n",
    "    @classmethod\n",
    "    def split_df_eng(self, train):\n",
    "        # train dataset\n",
    "        train_eng = train.loc[train.lang_abv=='en'].copy()\n",
    "        train_eng.reset_index(inplace=True, drop=True)\n",
    "        \n",
    "        # train dataset non-english\n",
    "        train_non_eng = train.loc[train.lang_abv!='en'].copy()\n",
    "        train_non_eng.reset_index(inplace=True, drop=True)\n",
    "        \n",
    "        print(f\"TRAIN DATASET ONLY ENGLISH SHAPE: {train_eng.shape}, TRAIN DATASET NON ENGLISH SHAPE: {train_non_eng.shape}\")\n",
    "        \n",
    "        return train_eng, train_non_eng\n",
    "    \n",
    "    @classmethod\n",
    "    def load_mnli(use_validation=True):\n",
    "        result=[]\n",
    "        dataset=load_dataset('multi_nli')\n",
    "        print(dataset)\n",
    "        for record in dataset['train']:\n",
    "            c1, c2, c3 = record['premise'],record['hypothesis'], record['label']\n",
    "            if c1 and c2 and c3 in {0, 1, 2}:\n",
    "                result.append((c1, c2, c3, 'en'))\n",
    "        result=pd.DataFrame(result, columns=['premise', 'hypothesis', 'label', 'lang_abv'])\n",
    "        return result\n",
    "            \n",
    "\n",
    "    @classmethod\n",
    "    def balace_label(self, train_eng, train_non_eng):\n",
    "        \n",
    "        def translate_language(premise, hypothesis, to_lang):\n",
    "            try:\n",
    "                translator = Translator()\n",
    "                n_premise = translator.translate(premise, dest=to_lang).text\n",
    "                n_hypothesis = translator.translate(hypothesis, dest=to_lang).text\n",
    "            except:\n",
    "                n_premise,n_hypothesis = premise,hypothesis\n",
    "            return n_premise, n_hypothesis\n",
    "        \n",
    "        list_of_non_eng_lang = np.array(train_non_eng.lang_abv.unique())\n",
    "        list_of_non_eng_lang\n",
    "        \n",
    "        # convert eng to non-eng language\n",
    "        for row_index in tqdm(range(len(train_eng))):\n",
    "            to_lang = random.choice(list_of_non_eng_lang)\n",
    "            try:\n",
    "                train_eng.loc[row_index]['premise'], train_eng.loc[row_index]['hypothesis'] = translate_language(\n",
    "                    train_eng.loc[row_index]['premise'], \n",
    "                    train_eng.loc[row_index]['hypothesis'],\n",
    "                    to_lang)\n",
    "            except:\n",
    "                list_of_non_eng_lang.remove(to_lang)\n",
    "        \n",
    "        # Convert non-eng to eng\n",
    "        for row_index in tqdm(range(len(train_non_eng))):\n",
    "            train_non_eng.loc[row_index][\"premise\"], train_non_eng.loc[row_index][\"hypothesis\"] = translate_language(\n",
    "                train_non_eng.loc[row_index]['premise'],\n",
    "                train_non_eng.loc[row_index]['hypothesis'],\n",
    "                'en')\n",
    "        \n",
    "        return train_eng, train_non_eng\n",
    "        \n",
    "augment = DataAugmentation()"
   ]
  },
  {
   "cell_type": "code",
   "execution_count": 19,
   "id": "57ef1ab8",
   "metadata": {
    "execution": {
     "iopub.execute_input": "2023-06-10T09:30:06.530365Z",
     "iopub.status.busy": "2023-06-10T09:30:06.529743Z",
     "iopub.status.idle": "2023-06-10T10:10:34.414259Z",
     "shell.execute_reply": "2023-06-10T10:10:34.412996Z"
    },
    "papermill": {
     "duration": 2427.908416,
     "end_time": "2023-06-10T10:10:34.417351",
     "exception": false,
     "start_time": "2023-06-10T09:30:06.508935",
     "status": "completed"
    },
    "tags": []
   },
   "outputs": [
    {
     "name": "stdout",
     "output_type": "stream",
     "text": [
      "TRAIN DATASET ONLY ENGLISH SHAPE: (6870, 6), TRAIN DATASET NON ENGLISH SHAPE: (5250, 6)\n"
     ]
    },
    {
     "name": "stderr",
     "output_type": "stream",
     "text": [
      "100%|██████████| 6870/6870 [21:44<00:00,  5.27it/s]\n",
      "100%|██████████| 5250/5250 [18:43<00:00,  4.67it/s]\n"
     ]
    }
   ],
   "source": [
    "# Split data into eng and non-eng\n",
    "train_eng, train_non_eng = augment.split_df_eng(train_dataset)\n",
    "\n",
    "# convert [eng->non-eng] AND [non-eng -> eng]\n",
    "train_eng, train_non_eng = augment.balace_label(train_eng, train_non_eng)\n",
    "\n",
    "# merge dataset [train_dataset, train_eng (converted), train_non_eng (converted)]\n",
    "data_frames = [train_dataset, train_eng, train_non_eng]\n",
    "train_df = pd.concat(data_frames)\n",
    "train_df.reset_index(inplace=True,drop=True)"
   ]
  },
  {
   "cell_type": "code",
   "execution_count": 20,
   "id": "0f95ffca",
   "metadata": {
    "execution": {
     "iopub.execute_input": "2023-06-10T10:10:36.254775Z",
     "iopub.status.busy": "2023-06-10T10:10:36.254385Z",
     "iopub.status.idle": "2023-06-10T10:10:36.271588Z",
     "shell.execute_reply": "2023-06-10T10:10:36.270556Z"
    },
    "papermill": {
     "duration": 0.898181,
     "end_time": "2023-06-10T10:10:36.273934",
     "exception": false,
     "start_time": "2023-06-10T10:10:35.375753",
     "status": "completed"
    },
    "tags": []
   },
   "outputs": [
    {
     "data": {
      "text/html": [
       "<div>\n",
       "<style scoped>\n",
       "    .dataframe tbody tr th:only-of-type {\n",
       "        vertical-align: middle;\n",
       "    }\n",
       "\n",
       "    .dataframe tbody tr th {\n",
       "        vertical-align: top;\n",
       "    }\n",
       "\n",
       "    .dataframe thead th {\n",
       "        text-align: right;\n",
       "    }\n",
       "</style>\n",
       "<table border=\"1\" class=\"dataframe\">\n",
       "  <thead>\n",
       "    <tr style=\"text-align: right;\">\n",
       "      <th></th>\n",
       "      <th>id</th>\n",
       "      <th>premise</th>\n",
       "      <th>hypothesis</th>\n",
       "      <th>lang_abv</th>\n",
       "      <th>language</th>\n",
       "      <th>label</th>\n",
       "    </tr>\n",
       "  </thead>\n",
       "  <tbody>\n",
       "    <tr>\n",
       "      <th>0</th>\n",
       "      <td>5130fd2cb5</td>\n",
       "      <td>and these comments were considered in formulat...</td>\n",
       "      <td>The rules developed in the interim were put to...</td>\n",
       "      <td>en</td>\n",
       "      <td>English</td>\n",
       "      <td>0</td>\n",
       "    </tr>\n",
       "    <tr>\n",
       "      <th>1</th>\n",
       "      <td>5b72532a0b</td>\n",
       "      <td>These are issues that we wrestle with in pract...</td>\n",
       "      <td>Practice groups are not permitted to work on t...</td>\n",
       "      <td>en</td>\n",
       "      <td>English</td>\n",
       "      <td>2</td>\n",
       "    </tr>\n",
       "    <tr>\n",
       "      <th>2</th>\n",
       "      <td>3931fbe82a</td>\n",
       "      <td>Des petites choses comme celles-là font une di...</td>\n",
       "      <td>J'essayais d'accomplir quelque chose.</td>\n",
       "      <td>fr</td>\n",
       "      <td>French</td>\n",
       "      <td>0</td>\n",
       "    </tr>\n",
       "    <tr>\n",
       "      <th>3</th>\n",
       "      <td>5622f0c60b</td>\n",
       "      <td>you know they can't really defend themselves l...</td>\n",
       "      <td>They can't defend themselves because of their ...</td>\n",
       "      <td>en</td>\n",
       "      <td>English</td>\n",
       "      <td>0</td>\n",
       "    </tr>\n",
       "    <tr>\n",
       "      <th>4</th>\n",
       "      <td>86aaa48b45</td>\n",
       "      <td>ในการเล่นบทบาทสมมุติก็เช่นกัน โอกาสที่จะได้แสด...</td>\n",
       "      <td>เด็กสามารถเห็นได้ว่าชาติพันธุ์แตกต่างกันอย่างไร</td>\n",
       "      <td>th</td>\n",
       "      <td>Thai</td>\n",
       "      <td>1</td>\n",
       "    </tr>\n",
       "    <tr>\n",
       "      <th>...</th>\n",
       "      <td>...</td>\n",
       "      <td>...</td>\n",
       "      <td>...</td>\n",
       "      <td>...</td>\n",
       "      <td>...</td>\n",
       "      <td>...</td>\n",
       "    </tr>\n",
       "    <tr>\n",
       "      <th>24235</th>\n",
       "      <td>eae412f48e</td>\n",
       "      <td>Да, - сказал Огле, - это правда. Но были и те,...</td>\n",
       "      <td>Огл никогда не упоминал противников существующ...</td>\n",
       "      <td>ru</td>\n",
       "      <td>Russian</td>\n",
       "      <td>2</td>\n",
       "    </tr>\n",
       "    <tr>\n",
       "      <th>24236</th>\n",
       "      <td>31f0c3d2d3</td>\n",
       "      <td>Οι λειτουργίες C-R μπορούν επίσης να εκτιμηθού...</td>\n",
       "      <td>Οι λειτουργίες C-R μπορούν να εκτιμηθούν με δι...</td>\n",
       "      <td>el</td>\n",
       "      <td>Greek</td>\n",
       "      <td>1</td>\n",
       "    </tr>\n",
       "    <tr>\n",
       "      <th>24237</th>\n",
       "      <td>39ea2c1e23</td>\n",
       "      <td>-concevoir, dessiner et coudre à la main tous ...</td>\n",
       "      <td>Les costumes n'étaient travaillés que par des ...</td>\n",
       "      <td>fr</td>\n",
       "      <td>French</td>\n",
       "      <td>1</td>\n",
       "    </tr>\n",
       "    <tr>\n",
       "      <th>24238</th>\n",
       "      <td>30a3361a15</td>\n",
       "      <td>ہم نہیں جانتے تھے کہ یو 2 (U2) کیا تھا اور کوئ...</td>\n",
       "      <td>ہم نے ہوا میں جو چیز دیکھی ہمیں اس کا نام معلو...</td>\n",
       "      <td>ur</td>\n",
       "      <td>Urdu</td>\n",
       "      <td>1</td>\n",
       "    </tr>\n",
       "    <tr>\n",
       "      <th>24239</th>\n",
       "      <td>be162b40cc</td>\n",
       "      <td>ปีที่ผ่านมาเด็กที่ถูกทารุณกรรมและถูกละเลยมากกว...</td>\n",
       "      <td>เด็กที่ถูกทารุณและถูกทอดทิ้งส่วนใหญ่เป็นคนกลุ่...</td>\n",
       "      <td>th</td>\n",
       "      <td>Thai</td>\n",
       "      <td>1</td>\n",
       "    </tr>\n",
       "  </tbody>\n",
       "</table>\n",
       "<p>24240 rows × 6 columns</p>\n",
       "</div>"
      ],
      "text/plain": [
       "               id                                            premise  \\\n",
       "0      5130fd2cb5  and these comments were considered in formulat...   \n",
       "1      5b72532a0b  These are issues that we wrestle with in pract...   \n",
       "2      3931fbe82a  Des petites choses comme celles-là font une di...   \n",
       "3      5622f0c60b  you know they can't really defend themselves l...   \n",
       "4      86aaa48b45  ในการเล่นบทบาทสมมุติก็เช่นกัน โอกาสที่จะได้แสด...   \n",
       "...           ...                                                ...   \n",
       "24235  eae412f48e  Да, - сказал Огле, - это правда. Но были и те,...   \n",
       "24236  31f0c3d2d3  Οι λειτουργίες C-R μπορούν επίσης να εκτιμηθού...   \n",
       "24237  39ea2c1e23  -concevoir, dessiner et coudre à la main tous ...   \n",
       "24238  30a3361a15  ہم نہیں جانتے تھے کہ یو 2 (U2) کیا تھا اور کوئ...   \n",
       "24239  be162b40cc  ปีที่ผ่านมาเด็กที่ถูกทารุณกรรมและถูกละเลยมากกว...   \n",
       "\n",
       "                                              hypothesis lang_abv language  \\\n",
       "0      The rules developed in the interim were put to...       en  English   \n",
       "1      Practice groups are not permitted to work on t...       en  English   \n",
       "2                  J'essayais d'accomplir quelque chose.       fr   French   \n",
       "3      They can't defend themselves because of their ...       en  English   \n",
       "4        เด็กสามารถเห็นได้ว่าชาติพันธุ์แตกต่างกันอย่างไร       th     Thai   \n",
       "...                                                  ...      ...      ...   \n",
       "24235  Огл никогда не упоминал противников существующ...       ru  Russian   \n",
       "24236  Οι λειτουργίες C-R μπορούν να εκτιμηθούν με δι...       el    Greek   \n",
       "24237  Les costumes n'étaient travaillés que par des ...       fr   French   \n",
       "24238  ہم نے ہوا میں جو چیز دیکھی ہمیں اس کا نام معلو...       ur     Urdu   \n",
       "24239  เด็กที่ถูกทารุณและถูกทอดทิ้งส่วนใหญ่เป็นคนกลุ่...       th     Thai   \n",
       "\n",
       "       label  \n",
       "0          0  \n",
       "1          2  \n",
       "2          0  \n",
       "3          0  \n",
       "4          1  \n",
       "...      ...  \n",
       "24235      2  \n",
       "24236      1  \n",
       "24237      1  \n",
       "24238      1  \n",
       "24239      1  \n",
       "\n",
       "[24240 rows x 6 columns]"
      ]
     },
     "execution_count": 20,
     "metadata": {},
     "output_type": "execute_result"
    }
   ],
   "source": [
    "train_df"
   ]
  },
  {
   "cell_type": "markdown",
   "id": "12774eaf",
   "metadata": {
    "papermill": {
     "duration": 0.933262,
     "end_time": "2023-06-10T10:10:38.080416",
     "exception": false,
     "start_time": "2023-06-10T10:10:37.147154",
     "status": "completed"
    },
    "tags": []
   },
   "source": [
    "**After balancing the label data, out total number of row is very low which is not efficient for NN process**\n",
    "   * To increase the data volume we use **multi_nli** data\n",
    "   * As we choose only english language in this model so multi_nli is very effective for us. Because multi_nli corpas was builded only english lanuage\n",
    "   * First, we download the dataset (using load_dataset lib) and make a format according to our dataset\n",
    "   * After that, we marge (our balanced dataset with multi_nli first 100000 data)\n",
    "   * Finally, our dataset size is **(24240 + 50000)**, which is good for NN process in the next phase"
   ]
  },
  {
   "cell_type": "code",
   "execution_count": 21,
   "id": "6bb21f83",
   "metadata": {
    "execution": {
     "iopub.execute_input": "2023-06-10T10:10:40.246529Z",
     "iopub.status.busy": "2023-06-10T10:10:40.246077Z",
     "iopub.status.idle": "2023-06-10T10:13:05.723072Z",
     "shell.execute_reply": "2023-06-10T10:13:05.721942Z"
    },
    "papermill": {
     "duration": 147.573476,
     "end_time": "2023-06-10T10:13:06.603669",
     "exception": false,
     "start_time": "2023-06-10T10:10:39.030193",
     "status": "completed"
    },
    "tags": []
   },
   "outputs": [
    {
     "data": {
      "application/vnd.jupyter.widget-view+json": {
       "model_id": "f7f4d2f9d03c40cf8db3365d1d52f76b",
       "version_major": 2,
       "version_minor": 0
      },
      "text/plain": [
       "Downloading builder script:   0%|          | 0.00/1.90k [00:00<?, ?B/s]"
      ]
     },
     "metadata": {},
     "output_type": "display_data"
    },
    {
     "data": {
      "application/vnd.jupyter.widget-view+json": {
       "model_id": "6b44e760e3a0465785a176f2942e34b4",
       "version_major": 2,
       "version_minor": 0
      },
      "text/plain": [
       "Downloading metadata:   0%|          | 0.00/1.19k [00:00<?, ?B/s]"
      ]
     },
     "metadata": {},
     "output_type": "display_data"
    },
    {
     "name": "stdout",
     "output_type": "stream",
     "text": [
      "Downloading and preparing dataset multi_nli/default (download: 216.34 MiB, generated: 410.92 MiB, post-processed: Unknown size, total: 627.27 MiB) to /root/.cache/huggingface/datasets/multi_nli/default/0.0.0/591f72eb6263d1ab527561777936b199b714cda156d35716881158a2bd144f39...\n"
     ]
    },
    {
     "data": {
      "application/vnd.jupyter.widget-view+json": {
       "model_id": "9f5a07ed22e247ab8630054bea1c5490",
       "version_major": 2,
       "version_minor": 0
      },
      "text/plain": [
       "Downloading data:   0%|          | 0.00/227M [00:00<?, ?B/s]"
      ]
     },
     "metadata": {},
     "output_type": "display_data"
    },
    {
     "data": {
      "application/vnd.jupyter.widget-view+json": {
       "model_id": "6cec5e7127544030bee62b4bb8f1c464",
       "version_major": 2,
       "version_minor": 0
      },
      "text/plain": [
       "Generating train split:   0%|          | 0/392702 [00:00<?, ? examples/s]"
      ]
     },
     "metadata": {},
     "output_type": "display_data"
    },
    {
     "data": {
      "application/vnd.jupyter.widget-view+json": {
       "model_id": "2275115f26764bbfafb79387011bffc9",
       "version_major": 2,
       "version_minor": 0
      },
      "text/plain": [
       "Generating validation_matched split:   0%|          | 0/9815 [00:00<?, ? examples/s]"
      ]
     },
     "metadata": {},
     "output_type": "display_data"
    },
    {
     "data": {
      "application/vnd.jupyter.widget-view+json": {
       "model_id": "4ef2ed2c0f4948ebbb2e8209941d1e76",
       "version_major": 2,
       "version_minor": 0
      },
      "text/plain": [
       "Generating validation_mismatched split:   0%|          | 0/9832 [00:00<?, ? examples/s]"
      ]
     },
     "metadata": {},
     "output_type": "display_data"
    },
    {
     "name": "stdout",
     "output_type": "stream",
     "text": [
      "Dataset multi_nli downloaded and prepared to /root/.cache/huggingface/datasets/multi_nli/default/0.0.0/591f72eb6263d1ab527561777936b199b714cda156d35716881158a2bd144f39. Subsequent calls will reuse this data.\n"
     ]
    },
    {
     "data": {
      "application/vnd.jupyter.widget-view+json": {
       "model_id": "6767822de95e49d7955192bf85e08cc4",
       "version_major": 2,
       "version_minor": 0
      },
      "text/plain": [
       "  0%|          | 0/3 [00:00<?, ?it/s]"
      ]
     },
     "metadata": {},
     "output_type": "display_data"
    },
    {
     "name": "stdout",
     "output_type": "stream",
     "text": [
      "DatasetDict({\n",
      "    train: Dataset({\n",
      "        features: ['promptID', 'pairID', 'premise', 'premise_binary_parse', 'premise_parse', 'hypothesis', 'hypothesis_binary_parse', 'hypothesis_parse', 'genre', 'label'],\n",
      "        num_rows: 392702\n",
      "    })\n",
      "    validation_matched: Dataset({\n",
      "        features: ['promptID', 'pairID', 'premise', 'premise_binary_parse', 'premise_parse', 'hypothesis', 'hypothesis_binary_parse', 'hypothesis_parse', 'genre', 'label'],\n",
      "        num_rows: 9815\n",
      "    })\n",
      "    validation_mismatched: Dataset({\n",
      "        features: ['promptID', 'pairID', 'premise', 'premise_binary_parse', 'premise_parse', 'hypothesis', 'hypothesis_binary_parse', 'hypothesis_parse', 'genre', 'label'],\n",
      "        num_rows: 9832\n",
      "    })\n",
      "})\n"
     ]
    },
    {
     "data": {
      "text/html": [
       "<div>\n",
       "<style scoped>\n",
       "    .dataframe tbody tr th:only-of-type {\n",
       "        vertical-align: middle;\n",
       "    }\n",
       "\n",
       "    .dataframe tbody tr th {\n",
       "        vertical-align: top;\n",
       "    }\n",
       "\n",
       "    .dataframe thead th {\n",
       "        text-align: right;\n",
       "    }\n",
       "</style>\n",
       "<table border=\"1\" class=\"dataframe\">\n",
       "  <thead>\n",
       "    <tr style=\"text-align: right;\">\n",
       "      <th></th>\n",
       "      <th>premise</th>\n",
       "      <th>hypothesis</th>\n",
       "      <th>label</th>\n",
       "      <th>lang_abv</th>\n",
       "    </tr>\n",
       "  </thead>\n",
       "  <tbody>\n",
       "    <tr>\n",
       "      <th>0</th>\n",
       "      <td>Conceptually cream skimming has two basic dime...</td>\n",
       "      <td>Product and geography are what make cream skim...</td>\n",
       "      <td>1</td>\n",
       "      <td>en</td>\n",
       "    </tr>\n",
       "    <tr>\n",
       "      <th>1</th>\n",
       "      <td>you know during the season and i guess at at y...</td>\n",
       "      <td>You lose the things to the following level if ...</td>\n",
       "      <td>0</td>\n",
       "      <td>en</td>\n",
       "    </tr>\n",
       "    <tr>\n",
       "      <th>2</th>\n",
       "      <td>One of our number will carry out your instruct...</td>\n",
       "      <td>A member of my team will execute your orders w...</td>\n",
       "      <td>0</td>\n",
       "      <td>en</td>\n",
       "    </tr>\n",
       "    <tr>\n",
       "      <th>3</th>\n",
       "      <td>How do you know? All this is their information...</td>\n",
       "      <td>This information belongs to them.</td>\n",
       "      <td>0</td>\n",
       "      <td>en</td>\n",
       "    </tr>\n",
       "    <tr>\n",
       "      <th>4</th>\n",
       "      <td>yeah i tell you what though if you go price so...</td>\n",
       "      <td>The tennis shoes have a range of prices.</td>\n",
       "      <td>1</td>\n",
       "      <td>en</td>\n",
       "    </tr>\n",
       "    <tr>\n",
       "      <th>...</th>\n",
       "      <td>...</td>\n",
       "      <td>...</td>\n",
       "      <td>...</td>\n",
       "      <td>...</td>\n",
       "    </tr>\n",
       "    <tr>\n",
       "      <th>392697</th>\n",
       "      <td>Clearly, California can - and must - do better.</td>\n",
       "      <td>California cannot do any better.</td>\n",
       "      <td>2</td>\n",
       "      <td>en</td>\n",
       "    </tr>\n",
       "    <tr>\n",
       "      <th>392698</th>\n",
       "      <td>It was once regarded as the most beautiful str...</td>\n",
       "      <td>So many of the original buildings had been rep...</td>\n",
       "      <td>1</td>\n",
       "      <td>en</td>\n",
       "    </tr>\n",
       "    <tr>\n",
       "      <th>392699</th>\n",
       "      <td>Houseboats are a beautifully preserved traditi...</td>\n",
       "      <td>The tradition of houseboats originated while t...</td>\n",
       "      <td>0</td>\n",
       "      <td>en</td>\n",
       "    </tr>\n",
       "    <tr>\n",
       "      <th>392700</th>\n",
       "      <td>Obituaries fondly recalled his on-air debates ...</td>\n",
       "      <td>The obituaries were beautiful and written in k...</td>\n",
       "      <td>1</td>\n",
       "      <td>en</td>\n",
       "    </tr>\n",
       "    <tr>\n",
       "      <th>392701</th>\n",
       "      <td>in that other you know uh that i should do it ...</td>\n",
       "      <td>My husband has been so overworked lately that ...</td>\n",
       "      <td>1</td>\n",
       "      <td>en</td>\n",
       "    </tr>\n",
       "  </tbody>\n",
       "</table>\n",
       "<p>392702 rows × 4 columns</p>\n",
       "</div>"
      ],
      "text/plain": [
       "                                                  premise  \\\n",
       "0       Conceptually cream skimming has two basic dime...   \n",
       "1       you know during the season and i guess at at y...   \n",
       "2       One of our number will carry out your instruct...   \n",
       "3       How do you know? All this is their information...   \n",
       "4       yeah i tell you what though if you go price so...   \n",
       "...                                                   ...   \n",
       "392697    Clearly, California can - and must - do better.   \n",
       "392698  It was once regarded as the most beautiful str...   \n",
       "392699  Houseboats are a beautifully preserved traditi...   \n",
       "392700  Obituaries fondly recalled his on-air debates ...   \n",
       "392701  in that other you know uh that i should do it ...   \n",
       "\n",
       "                                               hypothesis  label lang_abv  \n",
       "0       Product and geography are what make cream skim...      1       en  \n",
       "1       You lose the things to the following level if ...      0       en  \n",
       "2       A member of my team will execute your orders w...      0       en  \n",
       "3                       This information belongs to them.      0       en  \n",
       "4                The tennis shoes have a range of prices.      1       en  \n",
       "...                                                   ...    ...      ...  \n",
       "392697                   California cannot do any better.      2       en  \n",
       "392698  So many of the original buildings had been rep...      1       en  \n",
       "392699  The tradition of houseboats originated while t...      0       en  \n",
       "392700  The obituaries were beautiful and written in k...      1       en  \n",
       "392701  My husband has been so overworked lately that ...      1       en  \n",
       "\n",
       "[392702 rows x 4 columns]"
      ]
     },
     "execution_count": 21,
     "metadata": {},
     "output_type": "execute_result"
    }
   ],
   "source": [
    "# Download mnli dataset\n",
    "mnli_dataset = augment.load_mnli()\n",
    "mnli_dataset"
   ]
  },
  {
   "cell_type": "code",
   "execution_count": 22,
   "id": "a5c54829",
   "metadata": {
    "execution": {
     "iopub.execute_input": "2023-06-10T10:13:08.531603Z",
     "iopub.status.busy": "2023-06-10T10:13:08.531208Z",
     "iopub.status.idle": "2023-06-10T10:13:08.546174Z",
     "shell.execute_reply": "2023-06-10T10:13:08.545166Z"
    },
    "papermill": {
     "duration": 1.00725,
     "end_time": "2023-06-10T10:13:08.548568",
     "exception": false,
     "start_time": "2023-06-10T10:13:07.541318",
     "status": "completed"
    },
    "tags": []
   },
   "outputs": [],
   "source": [
    "# marge train_bal_df and mnli_dataset\n",
    "train_df = pd.concat([train_df, mnli_dataset.loc[:50000]],axis=0)\n",
    "train_df.reset_index(inplace=True, drop=True)"
   ]
  },
  {
   "cell_type": "code",
   "execution_count": 23,
   "id": "348d6449",
   "metadata": {
    "execution": {
     "iopub.execute_input": "2023-06-10T10:13:10.363479Z",
     "iopub.status.busy": "2023-06-10T10:13:10.363055Z",
     "iopub.status.idle": "2023-06-10T10:13:10.382981Z",
     "shell.execute_reply": "2023-06-10T10:13:10.381868Z"
    },
    "papermill": {
     "duration": 0.892114,
     "end_time": "2023-06-10T10:13:10.385344",
     "exception": false,
     "start_time": "2023-06-10T10:13:09.493230",
     "status": "completed"
    },
    "tags": []
   },
   "outputs": [
    {
     "data": {
      "text/html": [
       "<div>\n",
       "<style scoped>\n",
       "    .dataframe tbody tr th:only-of-type {\n",
       "        vertical-align: middle;\n",
       "    }\n",
       "\n",
       "    .dataframe tbody tr th {\n",
       "        vertical-align: top;\n",
       "    }\n",
       "\n",
       "    .dataframe thead th {\n",
       "        text-align: right;\n",
       "    }\n",
       "</style>\n",
       "<table border=\"1\" class=\"dataframe\">\n",
       "  <thead>\n",
       "    <tr style=\"text-align: right;\">\n",
       "      <th></th>\n",
       "      <th>id</th>\n",
       "      <th>premise</th>\n",
       "      <th>hypothesis</th>\n",
       "      <th>lang_abv</th>\n",
       "      <th>language</th>\n",
       "      <th>label</th>\n",
       "    </tr>\n",
       "  </thead>\n",
       "  <tbody>\n",
       "    <tr>\n",
       "      <th>0</th>\n",
       "      <td>5130fd2cb5</td>\n",
       "      <td>and these comments were considered in formulat...</td>\n",
       "      <td>The rules developed in the interim were put to...</td>\n",
       "      <td>en</td>\n",
       "      <td>English</td>\n",
       "      <td>0</td>\n",
       "    </tr>\n",
       "    <tr>\n",
       "      <th>1</th>\n",
       "      <td>5b72532a0b</td>\n",
       "      <td>These are issues that we wrestle with in pract...</td>\n",
       "      <td>Practice groups are not permitted to work on t...</td>\n",
       "      <td>en</td>\n",
       "      <td>English</td>\n",
       "      <td>2</td>\n",
       "    </tr>\n",
       "    <tr>\n",
       "      <th>2</th>\n",
       "      <td>3931fbe82a</td>\n",
       "      <td>Des petites choses comme celles-là font une di...</td>\n",
       "      <td>J'essayais d'accomplir quelque chose.</td>\n",
       "      <td>fr</td>\n",
       "      <td>French</td>\n",
       "      <td>0</td>\n",
       "    </tr>\n",
       "    <tr>\n",
       "      <th>3</th>\n",
       "      <td>5622f0c60b</td>\n",
       "      <td>you know they can't really defend themselves l...</td>\n",
       "      <td>They can't defend themselves because of their ...</td>\n",
       "      <td>en</td>\n",
       "      <td>English</td>\n",
       "      <td>0</td>\n",
       "    </tr>\n",
       "    <tr>\n",
       "      <th>4</th>\n",
       "      <td>86aaa48b45</td>\n",
       "      <td>ในการเล่นบทบาทสมมุติก็เช่นกัน โอกาสที่จะได้แสด...</td>\n",
       "      <td>เด็กสามารถเห็นได้ว่าชาติพันธุ์แตกต่างกันอย่างไร</td>\n",
       "      <td>th</td>\n",
       "      <td>Thai</td>\n",
       "      <td>1</td>\n",
       "    </tr>\n",
       "    <tr>\n",
       "      <th>...</th>\n",
       "      <td>...</td>\n",
       "      <td>...</td>\n",
       "      <td>...</td>\n",
       "      <td>...</td>\n",
       "      <td>...</td>\n",
       "      <td>...</td>\n",
       "    </tr>\n",
       "    <tr>\n",
       "      <th>74236</th>\n",
       "      <td>NaN</td>\n",
       "      <td>In Trinidad, Motel Las Cuevas has a disco with...</td>\n",
       "      <td>There is a disco in Motel Las Cuevas.</td>\n",
       "      <td>en</td>\n",
       "      <td>NaN</td>\n",
       "      <td>0</td>\n",
       "    </tr>\n",
       "    <tr>\n",
       "      <th>74237</th>\n",
       "      <td>NaN</td>\n",
       "      <td>Tommy's heart sank at the sight of them.</td>\n",
       "      <td>The sight of them cheered Tommy up.</td>\n",
       "      <td>en</td>\n",
       "      <td>NaN</td>\n",
       "      <td>2</td>\n",
       "    </tr>\n",
       "    <tr>\n",
       "      <th>74238</th>\n",
       "      <td>NaN</td>\n",
       "      <td>Wodehouse, Paul Gigot and Mary McGrory.</td>\n",
       "      <td>Paul Gigot and others.</td>\n",
       "      <td>en</td>\n",
       "      <td>NaN</td>\n",
       "      <td>1</td>\n",
       "    </tr>\n",
       "    <tr>\n",
       "      <th>74239</th>\n",
       "      <td>NaN</td>\n",
       "      <td>Democrats think they're immune to this attack ...</td>\n",
       "      <td>Democrats think they have covered both ends of...</td>\n",
       "      <td>en</td>\n",
       "      <td>NaN</td>\n",
       "      <td>0</td>\n",
       "    </tr>\n",
       "    <tr>\n",
       "      <th>74240</th>\n",
       "      <td>NaN</td>\n",
       "      <td>something it's got forty gallons and they're s...</td>\n",
       "      <td>Nobody is concerned about the price.</td>\n",
       "      <td>en</td>\n",
       "      <td>NaN</td>\n",
       "      <td>2</td>\n",
       "    </tr>\n",
       "  </tbody>\n",
       "</table>\n",
       "<p>74241 rows × 6 columns</p>\n",
       "</div>"
      ],
      "text/plain": [
       "               id                                            premise  \\\n",
       "0      5130fd2cb5  and these comments were considered in formulat...   \n",
       "1      5b72532a0b  These are issues that we wrestle with in pract...   \n",
       "2      3931fbe82a  Des petites choses comme celles-là font une di...   \n",
       "3      5622f0c60b  you know they can't really defend themselves l...   \n",
       "4      86aaa48b45  ในการเล่นบทบาทสมมุติก็เช่นกัน โอกาสที่จะได้แสด...   \n",
       "...           ...                                                ...   \n",
       "74236         NaN  In Trinidad, Motel Las Cuevas has a disco with...   \n",
       "74237         NaN           Tommy's heart sank at the sight of them.   \n",
       "74238         NaN            Wodehouse, Paul Gigot and Mary McGrory.   \n",
       "74239         NaN  Democrats think they're immune to this attack ...   \n",
       "74240         NaN  something it's got forty gallons and they're s...   \n",
       "\n",
       "                                              hypothesis lang_abv language  \\\n",
       "0      The rules developed in the interim were put to...       en  English   \n",
       "1      Practice groups are not permitted to work on t...       en  English   \n",
       "2                  J'essayais d'accomplir quelque chose.       fr   French   \n",
       "3      They can't defend themselves because of their ...       en  English   \n",
       "4        เด็กสามารถเห็นได้ว่าชาติพันธุ์แตกต่างกันอย่างไร       th     Thai   \n",
       "...                                                  ...      ...      ...   \n",
       "74236              There is a disco in Motel Las Cuevas.       en      NaN   \n",
       "74237                The sight of them cheered Tommy up.       en      NaN   \n",
       "74238                             Paul Gigot and others.       en      NaN   \n",
       "74239  Democrats think they have covered both ends of...       en      NaN   \n",
       "74240               Nobody is concerned about the price.       en      NaN   \n",
       "\n",
       "       label  \n",
       "0          0  \n",
       "1          2  \n",
       "2          0  \n",
       "3          0  \n",
       "4          1  \n",
       "...      ...  \n",
       "74236      0  \n",
       "74237      2  \n",
       "74238      1  \n",
       "74239      0  \n",
       "74240      2  \n",
       "\n",
       "[74241 rows x 6 columns]"
      ]
     },
     "execution_count": 23,
     "metadata": {},
     "output_type": "execute_result"
    }
   ],
   "source": [
    "train_df"
   ]
  },
  {
   "cell_type": "code",
   "execution_count": 24,
   "id": "4fd083db",
   "metadata": {
    "execution": {
     "iopub.execute_input": "2023-06-10T10:13:12.204976Z",
     "iopub.status.busy": "2023-06-10T10:13:12.203996Z",
     "iopub.status.idle": "2023-06-10T10:13:12.210443Z",
     "shell.execute_reply": "2023-06-10T10:13:12.209244Z"
    },
    "papermill": {
     "duration": 0.940905,
     "end_time": "2023-06-10T10:13:12.213358",
     "exception": false,
     "start_time": "2023-06-10T10:13:11.272453",
     "status": "completed"
    },
    "tags": []
   },
   "outputs": [
    {
     "name": "stdout",
     "output_type": "stream",
     "text": [
      "- Trian size: (74241, 6) and Test size: (5195, 5)\n"
     ]
    }
   ],
   "source": [
    "print(f'- Trian size: {train_df.shape} and Test size: {test_dataset.shape}')"
   ]
  },
  {
   "cell_type": "markdown",
   "id": "362dee91",
   "metadata": {
    "papermill": {
     "duration": 0.922487,
     "end_time": "2023-06-10T10:13:14.005148",
     "exception": false,
     "start_time": "2023-06-10T10:13:13.082661",
     "status": "completed"
    },
    "tags": []
   },
   "source": [
    "# Save into output"
   ]
  },
  {
   "cell_type": "code",
   "execution_count": 25,
   "id": "7ece3932",
   "metadata": {
    "execution": {
     "iopub.execute_input": "2023-06-10T10:13:15.817034Z",
     "iopub.status.busy": "2023-06-10T10:13:15.815848Z",
     "iopub.status.idle": "2023-06-10T10:13:16.504053Z",
     "shell.execute_reply": "2023-06-10T10:13:16.502455Z"
    },
    "papermill": {
     "duration": 1.629022,
     "end_time": "2023-06-10T10:13:16.507065",
     "exception": false,
     "start_time": "2023-06-10T10:13:14.878043",
     "status": "completed"
    },
    "tags": []
   },
   "outputs": [],
   "source": [
    "train_df.to_csv(conf.to_train_csv)\n",
    "test_dataset.to_csv(conf.to_test_csv)\n",
    "sample_submission.to_csv(conf.to_submission_csv)"
   ]
  }
 ],
 "metadata": {
  "kernelspec": {
   "display_name": "Python 3",
   "language": "python",
   "name": "python3"
  },
  "language_info": {
   "codemirror_mode": {
    "name": "ipython",
    "version": 3
   },
   "file_extension": ".py",
   "mimetype": "text/x-python",
   "name": "python",
   "nbconvert_exporter": "python",
   "pygments_lexer": "ipython3",
   "version": "3.7.12"
  },
  "papermill": {
   "default_parameters": {},
   "duration": 2639.8925,
   "end_time": "2023-06-10T10:13:20.659103",
   "environment_variables": {},
   "exception": null,
   "input_path": "__notebook__.ipynb",
   "output_path": "__notebook__.ipynb",
   "parameters": {},
   "start_time": "2023-06-10T09:29:20.766603",
   "version": "2.4.0"
  },
  "widgets": {
   "application/vnd.jupyter.widget-state+json": {
    "state": {
     "0680b73b69dd4ac68f0d7f236be89743": {
      "model_module": "@jupyter-widgets/base",
      "model_module_version": "1.2.0",
      "model_name": "LayoutModel",
      "state": {
       "_model_module": "@jupyter-widgets/base",
       "_model_module_version": "1.2.0",
       "_model_name": "LayoutModel",
       "_view_count": null,
       "_view_module": "@jupyter-widgets/base",
       "_view_module_version": "1.2.0",
       "_view_name": "LayoutView",
       "align_content": null,
       "align_items": null,
       "align_self": null,
       "border": null,
       "bottom": null,
       "display": null,
       "flex": null,
       "flex_flow": null,
       "grid_area": null,
       "grid_auto_columns": null,
       "grid_auto_flow": null,
       "grid_auto_rows": null,
       "grid_column": null,
       "grid_gap": null,
       "grid_row": null,
       "grid_template_areas": null,
       "grid_template_columns": null,
       "grid_template_rows": null,
       "height": null,
       "justify_content": null,
       "justify_items": null,
       "left": null,
       "margin": null,
       "max_height": null,
       "max_width": null,
       "min_height": null,
       "min_width": null,
       "object_fit": null,
       "object_position": null,
       "order": null,
       "overflow": null,
       "overflow_x": null,
       "overflow_y": null,
       "padding": null,
       "right": null,
       "top": null,
       "visibility": null,
       "width": null
      }
     },
     "097438a2a65442bb863e6578a580151c": {
      "model_module": "@jupyter-widgets/base",
      "model_module_version": "1.2.0",
      "model_name": "LayoutModel",
      "state": {
       "_model_module": "@jupyter-widgets/base",
       "_model_module_version": "1.2.0",
       "_model_name": "LayoutModel",
       "_view_count": null,
       "_view_module": "@jupyter-widgets/base",
       "_view_module_version": "1.2.0",
       "_view_name": "LayoutView",
       "align_content": null,
       "align_items": null,
       "align_self": null,
       "border": null,
       "bottom": null,
       "display": null,
       "flex": null,
       "flex_flow": null,
       "grid_area": null,
       "grid_auto_columns": null,
       "grid_auto_flow": null,
       "grid_auto_rows": null,
       "grid_column": null,
       "grid_gap": null,
       "grid_row": null,
       "grid_template_areas": null,
       "grid_template_columns": null,
       "grid_template_rows": null,
       "height": null,
       "justify_content": null,
       "justify_items": null,
       "left": null,
       "margin": null,
       "max_height": null,
       "max_width": null,
       "min_height": null,
       "min_width": null,
       "object_fit": null,
       "object_position": null,
       "order": null,
       "overflow": null,
       "overflow_x": null,
       "overflow_y": null,
       "padding": null,
       "right": null,
       "top": null,
       "visibility": null,
       "width": null
      }
     },
     "0a60053a2ad64cc085d879f949f01781": {
      "model_module": "@jupyter-widgets/base",
      "model_module_version": "1.2.0",
      "model_name": "LayoutModel",
      "state": {
       "_model_module": "@jupyter-widgets/base",
       "_model_module_version": "1.2.0",
       "_model_name": "LayoutModel",
       "_view_count": null,
       "_view_module": "@jupyter-widgets/base",
       "_view_module_version": "1.2.0",
       "_view_name": "LayoutView",
       "align_content": null,
       "align_items": null,
       "align_self": null,
       "border": null,
       "bottom": null,
       "display": null,
       "flex": null,
       "flex_flow": null,
       "grid_area": null,
       "grid_auto_columns": null,
       "grid_auto_flow": null,
       "grid_auto_rows": null,
       "grid_column": null,
       "grid_gap": null,
       "grid_row": null,
       "grid_template_areas": null,
       "grid_template_columns": null,
       "grid_template_rows": null,
       "height": null,
       "justify_content": null,
       "justify_items": null,
       "left": null,
       "margin": null,
       "max_height": null,
       "max_width": null,
       "min_height": null,
       "min_width": null,
       "object_fit": null,
       "object_position": null,
       "order": null,
       "overflow": null,
       "overflow_x": null,
       "overflow_y": null,
       "padding": null,
       "right": null,
       "top": null,
       "visibility": null,
       "width": null
      }
     },
     "15e06d18978841dca358c7615cde84c2": {
      "model_module": "@jupyter-widgets/base",
      "model_module_version": "1.2.0",
      "model_name": "LayoutModel",
      "state": {
       "_model_module": "@jupyter-widgets/base",
       "_model_module_version": "1.2.0",
       "_model_name": "LayoutModel",
       "_view_count": null,
       "_view_module": "@jupyter-widgets/base",
       "_view_module_version": "1.2.0",
       "_view_name": "LayoutView",
       "align_content": null,
       "align_items": null,
       "align_self": null,
       "border": null,
       "bottom": null,
       "display": null,
       "flex": null,
       "flex_flow": null,
       "grid_area": null,
       "grid_auto_columns": null,
       "grid_auto_flow": null,
       "grid_auto_rows": null,
       "grid_column": null,
       "grid_gap": null,
       "grid_row": null,
       "grid_template_areas": null,
       "grid_template_columns": null,
       "grid_template_rows": null,
       "height": null,
       "justify_content": null,
       "justify_items": null,
       "left": null,
       "margin": null,
       "max_height": null,
       "max_width": null,
       "min_height": null,
       "min_width": null,
       "object_fit": null,
       "object_position": null,
       "order": null,
       "overflow": null,
       "overflow_x": null,
       "overflow_y": null,
       "padding": null,
       "right": null,
       "top": null,
       "visibility": null,
       "width": null
      }
     },
     "1abc2ad7d09845f5aeea7976ac4d26d3": {
      "model_module": "@jupyter-widgets/base",
      "model_module_version": "1.2.0",
      "model_name": "LayoutModel",
      "state": {
       "_model_module": "@jupyter-widgets/base",
       "_model_module_version": "1.2.0",
       "_model_name": "LayoutModel",
       "_view_count": null,
       "_view_module": "@jupyter-widgets/base",
       "_view_module_version": "1.2.0",
       "_view_name": "LayoutView",
       "align_content": null,
       "align_items": null,
       "align_self": null,
       "border": null,
       "bottom": null,
       "display": null,
       "flex": null,
       "flex_flow": null,
       "grid_area": null,
       "grid_auto_columns": null,
       "grid_auto_flow": null,
       "grid_auto_rows": null,
       "grid_column": null,
       "grid_gap": null,
       "grid_row": null,
       "grid_template_areas": null,
       "grid_template_columns": null,
       "grid_template_rows": null,
       "height": null,
       "justify_content": null,
       "justify_items": null,
       "left": null,
       "margin": null,
       "max_height": null,
       "max_width": null,
       "min_height": null,
       "min_width": null,
       "object_fit": null,
       "object_position": null,
       "order": null,
       "overflow": null,
       "overflow_x": null,
       "overflow_y": null,
       "padding": null,
       "right": null,
       "top": null,
       "visibility": null,
       "width": null
      }
     },
     "1b750968b8ca44618424fab1635c38f4": {
      "model_module": "@jupyter-widgets/controls",
      "model_module_version": "1.5.0",
      "model_name": "DescriptionStyleModel",
      "state": {
       "_model_module": "@jupyter-widgets/controls",
       "_model_module_version": "1.5.0",
       "_model_name": "DescriptionStyleModel",
       "_view_count": null,
       "_view_module": "@jupyter-widgets/base",
       "_view_module_version": "1.2.0",
       "_view_name": "StyleView",
       "description_width": ""
      }
     },
     "1eef79c6e8b940f39754a2942c70ab7e": {
      "model_module": "@jupyter-widgets/controls",
      "model_module_version": "1.5.0",
      "model_name": "DescriptionStyleModel",
      "state": {
       "_model_module": "@jupyter-widgets/controls",
       "_model_module_version": "1.5.0",
       "_model_name": "DescriptionStyleModel",
       "_view_count": null,
       "_view_module": "@jupyter-widgets/base",
       "_view_module_version": "1.2.0",
       "_view_name": "StyleView",
       "description_width": ""
      }
     },
     "201fbdcce8ce48e3a0cdae2cc6814cd0": {
      "model_module": "@jupyter-widgets/base",
      "model_module_version": "1.2.0",
      "model_name": "LayoutModel",
      "state": {
       "_model_module": "@jupyter-widgets/base",
       "_model_module_version": "1.2.0",
       "_model_name": "LayoutModel",
       "_view_count": null,
       "_view_module": "@jupyter-widgets/base",
       "_view_module_version": "1.2.0",
       "_view_name": "LayoutView",
       "align_content": null,
       "align_items": null,
       "align_self": null,
       "border": null,
       "bottom": null,
       "display": null,
       "flex": null,
       "flex_flow": null,
       "grid_area": null,
       "grid_auto_columns": null,
       "grid_auto_flow": null,
       "grid_auto_rows": null,
       "grid_column": null,
       "grid_gap": null,
       "grid_row": null,
       "grid_template_areas": null,
       "grid_template_columns": null,
       "grid_template_rows": null,
       "height": null,
       "justify_content": null,
       "justify_items": null,
       "left": null,
       "margin": null,
       "max_height": null,
       "max_width": null,
       "min_height": null,
       "min_width": null,
       "object_fit": null,
       "object_position": null,
       "order": null,
       "overflow": null,
       "overflow_x": null,
       "overflow_y": null,
       "padding": null,
       "right": null,
       "top": null,
       "visibility": null,
       "width": null
      }
     },
     "2275115f26764bbfafb79387011bffc9": {
      "model_module": "@jupyter-widgets/controls",
      "model_module_version": "1.5.0",
      "model_name": "HBoxModel",
      "state": {
       "_dom_classes": [],
       "_model_module": "@jupyter-widgets/controls",
       "_model_module_version": "1.5.0",
       "_model_name": "HBoxModel",
       "_view_count": null,
       "_view_module": "@jupyter-widgets/controls",
       "_view_module_version": "1.5.0",
       "_view_name": "HBoxView",
       "box_style": "",
       "children": [
        "IPY_MODEL_b380788b1a7d41e18412cc23f390fce8",
        "IPY_MODEL_4381ca16820b49f28babc2f94e47197f",
        "IPY_MODEL_e51732877c26453fa72de9783d819c92"
       ],
       "layout": "IPY_MODEL_b9cf49b61d1648b1a749243dbf40424f"
      }
     },
     "283722beceb54d32ab89a6141673accf": {
      "model_module": "@jupyter-widgets/controls",
      "model_module_version": "1.5.0",
      "model_name": "HTMLModel",
      "state": {
       "_dom_classes": [],
       "_model_module": "@jupyter-widgets/controls",
       "_model_module_version": "1.5.0",
       "_model_name": "HTMLModel",
       "_view_count": null,
       "_view_module": "@jupyter-widgets/controls",
       "_view_module_version": "1.5.0",
       "_view_name": "HTMLView",
       "description": "",
       "description_tooltip": null,
       "layout": "IPY_MODEL_acab8bcc3d074ade8966fb240204bef2",
       "placeholder": "​",
       "style": "IPY_MODEL_42a7bd62169d461ea2c6c6f0c87b9388",
       "value": "Downloading data: 100%"
      }
     },
     "291c15bcf82b42d7baea8d94052a392a": {
      "model_module": "@jupyter-widgets/base",
      "model_module_version": "1.2.0",
      "model_name": "LayoutModel",
      "state": {
       "_model_module": "@jupyter-widgets/base",
       "_model_module_version": "1.2.0",
       "_model_name": "LayoutModel",
       "_view_count": null,
       "_view_module": "@jupyter-widgets/base",
       "_view_module_version": "1.2.0",
       "_view_name": "LayoutView",
       "align_content": null,
       "align_items": null,
       "align_self": null,
       "border": null,
       "bottom": null,
       "display": null,
       "flex": null,
       "flex_flow": null,
       "grid_area": null,
       "grid_auto_columns": null,
       "grid_auto_flow": null,
       "grid_auto_rows": null,
       "grid_column": null,
       "grid_gap": null,
       "grid_row": null,
       "grid_template_areas": null,
       "grid_template_columns": null,
       "grid_template_rows": null,
       "height": null,
       "justify_content": null,
       "justify_items": null,
       "left": null,
       "margin": null,
       "max_height": null,
       "max_width": null,
       "min_height": null,
       "min_width": null,
       "object_fit": null,
       "object_position": null,
       "order": null,
       "overflow": null,
       "overflow_x": null,
       "overflow_y": null,
       "padding": null,
       "right": null,
       "top": null,
       "visibility": null,
       "width": null
      }
     },
     "295b6291b62d4e59b6f4c0dbeafcc800": {
      "model_module": "@jupyter-widgets/base",
      "model_module_version": "1.2.0",
      "model_name": "LayoutModel",
      "state": {
       "_model_module": "@jupyter-widgets/base",
       "_model_module_version": "1.2.0",
       "_model_name": "LayoutModel",
       "_view_count": null,
       "_view_module": "@jupyter-widgets/base",
       "_view_module_version": "1.2.0",
       "_view_name": "LayoutView",
       "align_content": null,
       "align_items": null,
       "align_self": null,
       "border": null,
       "bottom": null,
       "display": null,
       "flex": null,
       "flex_flow": null,
       "grid_area": null,
       "grid_auto_columns": null,
       "grid_auto_flow": null,
       "grid_auto_rows": null,
       "grid_column": null,
       "grid_gap": null,
       "grid_row": null,
       "grid_template_areas": null,
       "grid_template_columns": null,
       "grid_template_rows": null,
       "height": null,
       "justify_content": null,
       "justify_items": null,
       "left": null,
       "margin": null,
       "max_height": null,
       "max_width": null,
       "min_height": null,
       "min_width": null,
       "object_fit": null,
       "object_position": null,
       "order": null,
       "overflow": null,
       "overflow_x": null,
       "overflow_y": null,
       "padding": null,
       "right": null,
       "top": null,
       "visibility": null,
       "width": null
      }
     },
     "2ace3b0ead354d4c90c484d517e154f7": {
      "model_module": "@jupyter-widgets/controls",
      "model_module_version": "1.5.0",
      "model_name": "ProgressStyleModel",
      "state": {
       "_model_module": "@jupyter-widgets/controls",
       "_model_module_version": "1.5.0",
       "_model_name": "ProgressStyleModel",
       "_view_count": null,
       "_view_module": "@jupyter-widgets/base",
       "_view_module_version": "1.2.0",
       "_view_name": "StyleView",
       "bar_color": null,
       "description_width": ""
      }
     },
     "2d28309a117c47bf9daa8894dbfcea57": {
      "model_module": "@jupyter-widgets/base",
      "model_module_version": "1.2.0",
      "model_name": "LayoutModel",
      "state": {
       "_model_module": "@jupyter-widgets/base",
       "_model_module_version": "1.2.0",
       "_model_name": "LayoutModel",
       "_view_count": null,
       "_view_module": "@jupyter-widgets/base",
       "_view_module_version": "1.2.0",
       "_view_name": "LayoutView",
       "align_content": null,
       "align_items": null,
       "align_self": null,
       "border": null,
       "bottom": null,
       "display": null,
       "flex": null,
       "flex_flow": null,
       "grid_area": null,
       "grid_auto_columns": null,
       "grid_auto_flow": null,
       "grid_auto_rows": null,
       "grid_column": null,
       "grid_gap": null,
       "grid_row": null,
       "grid_template_areas": null,
       "grid_template_columns": null,
       "grid_template_rows": null,
       "height": null,
       "justify_content": null,
       "justify_items": null,
       "left": null,
       "margin": null,
       "max_height": null,
       "max_width": null,
       "min_height": null,
       "min_width": null,
       "object_fit": null,
       "object_position": null,
       "order": null,
       "overflow": null,
       "overflow_x": null,
       "overflow_y": null,
       "padding": null,
       "right": null,
       "top": null,
       "visibility": null,
       "width": null
      }
     },
     "2e197347123640888ef650a8c5669d33": {
      "model_module": "@jupyter-widgets/base",
      "model_module_version": "1.2.0",
      "model_name": "LayoutModel",
      "state": {
       "_model_module": "@jupyter-widgets/base",
       "_model_module_version": "1.2.0",
       "_model_name": "LayoutModel",
       "_view_count": null,
       "_view_module": "@jupyter-widgets/base",
       "_view_module_version": "1.2.0",
       "_view_name": "LayoutView",
       "align_content": null,
       "align_items": null,
       "align_self": null,
       "border": null,
       "bottom": null,
       "display": null,
       "flex": null,
       "flex_flow": null,
       "grid_area": null,
       "grid_auto_columns": null,
       "grid_auto_flow": null,
       "grid_auto_rows": null,
       "grid_column": null,
       "grid_gap": null,
       "grid_row": null,
       "grid_template_areas": null,
       "grid_template_columns": null,
       "grid_template_rows": null,
       "height": null,
       "justify_content": null,
       "justify_items": null,
       "left": null,
       "margin": null,
       "max_height": null,
       "max_width": null,
       "min_height": null,
       "min_width": null,
       "object_fit": null,
       "object_position": null,
       "order": null,
       "overflow": null,
       "overflow_x": null,
       "overflow_y": null,
       "padding": null,
       "right": null,
       "top": null,
       "visibility": null,
       "width": null
      }
     },
     "332d6ac66b7544ccb1d2494fcfa937f7": {
      "model_module": "@jupyter-widgets/controls",
      "model_module_version": "1.5.0",
      "model_name": "HTMLModel",
      "state": {
       "_dom_classes": [],
       "_model_module": "@jupyter-widgets/controls",
       "_model_module_version": "1.5.0",
       "_model_name": "HTMLModel",
       "_view_count": null,
       "_view_module": "@jupyter-widgets/controls",
       "_view_module_version": "1.5.0",
       "_view_name": "HTMLView",
       "description": "",
       "description_tooltip": null,
       "layout": "IPY_MODEL_4f19cb2de2754e3894f3eab0cbb7b884",
       "placeholder": "​",
       "style": "IPY_MODEL_1b750968b8ca44618424fab1635c38f4",
       "value": "Generating train split: 100%"
      }
     },
     "41dfa3265e434a5c915e130da3694a38": {
      "model_module": "@jupyter-widgets/controls",
      "model_module_version": "1.5.0",
      "model_name": "HTMLModel",
      "state": {
       "_dom_classes": [],
       "_model_module": "@jupyter-widgets/controls",
       "_model_module_version": "1.5.0",
       "_model_name": "HTMLModel",
       "_view_count": null,
       "_view_module": "@jupyter-widgets/controls",
       "_view_module_version": "1.5.0",
       "_view_name": "HTMLView",
       "description": "",
       "description_tooltip": null,
       "layout": "IPY_MODEL_97eff0a4e91e43febdb59d2729e15284",
       "placeholder": "​",
       "style": "IPY_MODEL_76334ad4d8f64ad68ba9c234d9554951",
       "value": "Generating validation_mismatched split:  98%"
      }
     },
     "42a7bd62169d461ea2c6c6f0c87b9388": {
      "model_module": "@jupyter-widgets/controls",
      "model_module_version": "1.5.0",
      "model_name": "DescriptionStyleModel",
      "state": {
       "_model_module": "@jupyter-widgets/controls",
       "_model_module_version": "1.5.0",
       "_model_name": "DescriptionStyleModel",
       "_view_count": null,
       "_view_module": "@jupyter-widgets/base",
       "_view_module_version": "1.2.0",
       "_view_name": "StyleView",
       "description_width": ""
      }
     },
     "4381ca16820b49f28babc2f94e47197f": {
      "model_module": "@jupyter-widgets/controls",
      "model_module_version": "1.5.0",
      "model_name": "FloatProgressModel",
      "state": {
       "_dom_classes": [],
       "_model_module": "@jupyter-widgets/controls",
       "_model_module_version": "1.5.0",
       "_model_name": "FloatProgressModel",
       "_view_count": null,
       "_view_module": "@jupyter-widgets/controls",
       "_view_module_version": "1.5.0",
       "_view_name": "ProgressView",
       "bar_style": "",
       "description": "",
       "description_tooltip": null,
       "layout": "IPY_MODEL_2d28309a117c47bf9daa8894dbfcea57",
       "max": 9815.0,
       "min": 0.0,
       "orientation": "horizontal",
       "style": "IPY_MODEL_aaebded4236f43c48a0099cdb44a499a",
       "value": 9815.0
      }
     },
     "4d51892e07304ce284e9ec5d39daca30": {
      "model_module": "@jupyter-widgets/controls",
      "model_module_version": "1.5.0",
      "model_name": "DescriptionStyleModel",
      "state": {
       "_model_module": "@jupyter-widgets/controls",
       "_model_module_version": "1.5.0",
       "_model_name": "DescriptionStyleModel",
       "_view_count": null,
       "_view_module": "@jupyter-widgets/base",
       "_view_module_version": "1.2.0",
       "_view_name": "StyleView",
       "description_width": ""
      }
     },
     "4ef2ed2c0f4948ebbb2e8209941d1e76": {
      "model_module": "@jupyter-widgets/controls",
      "model_module_version": "1.5.0",
      "model_name": "HBoxModel",
      "state": {
       "_dom_classes": [],
       "_model_module": "@jupyter-widgets/controls",
       "_model_module_version": "1.5.0",
       "_model_name": "HBoxModel",
       "_view_count": null,
       "_view_module": "@jupyter-widgets/controls",
       "_view_module_version": "1.5.0",
       "_view_name": "HBoxView",
       "box_style": "",
       "children": [
        "IPY_MODEL_41dfa3265e434a5c915e130da3694a38",
        "IPY_MODEL_fe3021d656834989a8d66980b3c4cda1",
        "IPY_MODEL_553a370be3904e09a207f84d8d24e4e6"
       ],
       "layout": "IPY_MODEL_ce2f387e9b264e2e818e08d46709fb18"
      }
     },
     "4f19cb2de2754e3894f3eab0cbb7b884": {
      "model_module": "@jupyter-widgets/base",
      "model_module_version": "1.2.0",
      "model_name": "LayoutModel",
      "state": {
       "_model_module": "@jupyter-widgets/base",
       "_model_module_version": "1.2.0",
       "_model_name": "LayoutModel",
       "_view_count": null,
       "_view_module": "@jupyter-widgets/base",
       "_view_module_version": "1.2.0",
       "_view_name": "LayoutView",
       "align_content": null,
       "align_items": null,
       "align_self": null,
       "border": null,
       "bottom": null,
       "display": null,
       "flex": null,
       "flex_flow": null,
       "grid_area": null,
       "grid_auto_columns": null,
       "grid_auto_flow": null,
       "grid_auto_rows": null,
       "grid_column": null,
       "grid_gap": null,
       "grid_row": null,
       "grid_template_areas": null,
       "grid_template_columns": null,
       "grid_template_rows": null,
       "height": null,
       "justify_content": null,
       "justify_items": null,
       "left": null,
       "margin": null,
       "max_height": null,
       "max_width": null,
       "min_height": null,
       "min_width": null,
       "object_fit": null,
       "object_position": null,
       "order": null,
       "overflow": null,
       "overflow_x": null,
       "overflow_y": null,
       "padding": null,
       "right": null,
       "top": null,
       "visibility": null,
       "width": null
      }
     },
     "4fca74301b1545bebedd201a4b0f8181": {
      "model_module": "@jupyter-widgets/controls",
      "model_module_version": "1.5.0",
      "model_name": "DescriptionStyleModel",
      "state": {
       "_model_module": "@jupyter-widgets/controls",
       "_model_module_version": "1.5.0",
       "_model_name": "DescriptionStyleModel",
       "_view_count": null,
       "_view_module": "@jupyter-widgets/base",
       "_view_module_version": "1.2.0",
       "_view_name": "StyleView",
       "description_width": ""
      }
     },
     "52855f667ea143ae99c078623d59feff": {
      "model_module": "@jupyter-widgets/controls",
      "model_module_version": "1.5.0",
      "model_name": "DescriptionStyleModel",
      "state": {
       "_model_module": "@jupyter-widgets/controls",
       "_model_module_version": "1.5.0",
       "_model_name": "DescriptionStyleModel",
       "_view_count": null,
       "_view_module": "@jupyter-widgets/base",
       "_view_module_version": "1.2.0",
       "_view_name": "StyleView",
       "description_width": ""
      }
     },
     "553a370be3904e09a207f84d8d24e4e6": {
      "model_module": "@jupyter-widgets/controls",
      "model_module_version": "1.5.0",
      "model_name": "HTMLModel",
      "state": {
       "_dom_classes": [],
       "_model_module": "@jupyter-widgets/controls",
       "_model_module_version": "1.5.0",
       "_model_name": "HTMLModel",
       "_view_count": null,
       "_view_module": "@jupyter-widgets/controls",
       "_view_module_version": "1.5.0",
       "_view_name": "HTMLView",
       "description": "",
       "description_tooltip": null,
       "layout": "IPY_MODEL_0a60053a2ad64cc085d879f949f01781",
       "placeholder": "​",
       "style": "IPY_MODEL_d2e907c5bb2547169b6af52e83139928",
       "value": " 9667/9832 [00:01&lt;00:00, 5856.46 examples/s]"
      }
     },
     "5c06880cfbfe4cbab37ca57d25a6aae0": {
      "model_module": "@jupyter-widgets/base",
      "model_module_version": "1.2.0",
      "model_name": "LayoutModel",
      "state": {
       "_model_module": "@jupyter-widgets/base",
       "_model_module_version": "1.2.0",
       "_model_name": "LayoutModel",
       "_view_count": null,
       "_view_module": "@jupyter-widgets/base",
       "_view_module_version": "1.2.0",
       "_view_name": "LayoutView",
       "align_content": null,
       "align_items": null,
       "align_self": null,
       "border": null,
       "bottom": null,
       "display": null,
       "flex": null,
       "flex_flow": null,
       "grid_area": null,
       "grid_auto_columns": null,
       "grid_auto_flow": null,
       "grid_auto_rows": null,
       "grid_column": null,
       "grid_gap": null,
       "grid_row": null,
       "grid_template_areas": null,
       "grid_template_columns": null,
       "grid_template_rows": null,
       "height": null,
       "justify_content": null,
       "justify_items": null,
       "left": null,
       "margin": null,
       "max_height": null,
       "max_width": null,
       "min_height": null,
       "min_width": null,
       "object_fit": null,
       "object_position": null,
       "order": null,
       "overflow": null,
       "overflow_x": null,
       "overflow_y": null,
       "padding": null,
       "right": null,
       "top": null,
       "visibility": null,
       "width": null
      }
     },
     "5c6926e7ab0e404198a3f13845622861": {
      "model_module": "@jupyter-widgets/controls",
      "model_module_version": "1.5.0",
      "model_name": "HTMLModel",
      "state": {
       "_dom_classes": [],
       "_model_module": "@jupyter-widgets/controls",
       "_model_module_version": "1.5.0",
       "_model_name": "HTMLModel",
       "_view_count": null,
       "_view_module": "@jupyter-widgets/controls",
       "_view_module_version": "1.5.0",
       "_view_name": "HTMLView",
       "description": "",
       "description_tooltip": null,
       "layout": "IPY_MODEL_0680b73b69dd4ac68f0d7f236be89743",
       "placeholder": "​",
       "style": "IPY_MODEL_52855f667ea143ae99c078623d59feff",
       "value": "100%"
      }
     },
     "62864a6968a1490b98f169d55870a7f0": {
      "model_module": "@jupyter-widgets/controls",
      "model_module_version": "1.5.0",
      "model_name": "ProgressStyleModel",
      "state": {
       "_model_module": "@jupyter-widgets/controls",
       "_model_module_version": "1.5.0",
       "_model_name": "ProgressStyleModel",
       "_view_count": null,
       "_view_module": "@jupyter-widgets/base",
       "_view_module_version": "1.2.0",
       "_view_name": "StyleView",
       "bar_color": null,
       "description_width": ""
      }
     },
     "6767822de95e49d7955192bf85e08cc4": {
      "model_module": "@jupyter-widgets/controls",
      "model_module_version": "1.5.0",
      "model_name": "HBoxModel",
      "state": {
       "_dom_classes": [],
       "_model_module": "@jupyter-widgets/controls",
       "_model_module_version": "1.5.0",
       "_model_name": "HBoxModel",
       "_view_count": null,
       "_view_module": "@jupyter-widgets/controls",
       "_view_module_version": "1.5.0",
       "_view_name": "HBoxView",
       "box_style": "",
       "children": [
        "IPY_MODEL_5c6926e7ab0e404198a3f13845622861",
        "IPY_MODEL_f49971da09434dad93429516c3791a39",
        "IPY_MODEL_75069c2be8894199bac913699ab4b225"
       ],
       "layout": "IPY_MODEL_d168031b958049e4ac57fccc83f3f9bd"
      }
     },
     "6b44e760e3a0465785a176f2942e34b4": {
      "model_module": "@jupyter-widgets/controls",
      "model_module_version": "1.5.0",
      "model_name": "HBoxModel",
      "state": {
       "_dom_classes": [],
       "_model_module": "@jupyter-widgets/controls",
       "_model_module_version": "1.5.0",
       "_model_name": "HBoxModel",
       "_view_count": null,
       "_view_module": "@jupyter-widgets/controls",
       "_view_module_version": "1.5.0",
       "_view_name": "HBoxView",
       "box_style": "",
       "children": [
        "IPY_MODEL_e63e35dfeafc4c2ca70117f725f79ca7",
        "IPY_MODEL_cb4e84c018dd462aba86c409d9459059",
        "IPY_MODEL_8e29d383b8b44bec8ea00a05c33f2521"
       ],
       "layout": "IPY_MODEL_73c47cbf13e248b685757de19cb4b8a5"
      }
     },
     "6ba9b09874274f888b6b5e153d5ab001": {
      "model_module": "@jupyter-widgets/controls",
      "model_module_version": "1.5.0",
      "model_name": "FloatProgressModel",
      "state": {
       "_dom_classes": [],
       "_model_module": "@jupyter-widgets/controls",
       "_model_module_version": "1.5.0",
       "_model_name": "FloatProgressModel",
       "_view_count": null,
       "_view_module": "@jupyter-widgets/controls",
       "_view_module_version": "1.5.0",
       "_view_name": "ProgressView",
       "bar_style": "success",
       "description": "",
       "description_tooltip": null,
       "layout": "IPY_MODEL_15e06d18978841dca358c7615cde84c2",
       "max": 1904.0,
       "min": 0.0,
       "orientation": "horizontal",
       "style": "IPY_MODEL_62864a6968a1490b98f169d55870a7f0",
       "value": 1904.0
      }
     },
     "6cec5e7127544030bee62b4bb8f1c464": {
      "model_module": "@jupyter-widgets/controls",
      "model_module_version": "1.5.0",
      "model_name": "HBoxModel",
      "state": {
       "_dom_classes": [],
       "_model_module": "@jupyter-widgets/controls",
       "_model_module_version": "1.5.0",
       "_model_name": "HBoxModel",
       "_view_count": null,
       "_view_module": "@jupyter-widgets/controls",
       "_view_module_version": "1.5.0",
       "_view_name": "HBoxView",
       "box_style": "",
       "children": [
        "IPY_MODEL_332d6ac66b7544ccb1d2494fcfa937f7",
        "IPY_MODEL_8024afff249a43eca91a57908e05e3f0",
        "IPY_MODEL_71509c4fef334a5596614df8a2620791"
       ],
       "layout": "IPY_MODEL_e16ab63f91334526b452364c0a86af86"
      }
     },
     "71509c4fef334a5596614df8a2620791": {
      "model_module": "@jupyter-widgets/controls",
      "model_module_version": "1.5.0",
      "model_name": "HTMLModel",
      "state": {
       "_dom_classes": [],
       "_model_module": "@jupyter-widgets/controls",
       "_model_module_version": "1.5.0",
       "_model_name": "HTMLModel",
       "_view_count": null,
       "_view_module": "@jupyter-widgets/controls",
       "_view_module_version": "1.5.0",
       "_view_name": "HTMLView",
       "description": "",
       "description_tooltip": null,
       "layout": "IPY_MODEL_5c06880cfbfe4cbab37ca57d25a6aae0",
       "placeholder": "​",
       "style": "IPY_MODEL_dafd06682d224ce1be8ccddbdf6bcf56",
       "value": " 392193/392702 [01:02&lt;00:00, 6730.66 examples/s]"
      }
     },
     "73c47cbf13e248b685757de19cb4b8a5": {
      "model_module": "@jupyter-widgets/base",
      "model_module_version": "1.2.0",
      "model_name": "LayoutModel",
      "state": {
       "_model_module": "@jupyter-widgets/base",
       "_model_module_version": "1.2.0",
       "_model_name": "LayoutModel",
       "_view_count": null,
       "_view_module": "@jupyter-widgets/base",
       "_view_module_version": "1.2.0",
       "_view_name": "LayoutView",
       "align_content": null,
       "align_items": null,
       "align_self": null,
       "border": null,
       "bottom": null,
       "display": null,
       "flex": null,
       "flex_flow": null,
       "grid_area": null,
       "grid_auto_columns": null,
       "grid_auto_flow": null,
       "grid_auto_rows": null,
       "grid_column": null,
       "grid_gap": null,
       "grid_row": null,
       "grid_template_areas": null,
       "grid_template_columns": null,
       "grid_template_rows": null,
       "height": null,
       "justify_content": null,
       "justify_items": null,
       "left": null,
       "margin": null,
       "max_height": null,
       "max_width": null,
       "min_height": null,
       "min_width": null,
       "object_fit": null,
       "object_position": null,
       "order": null,
       "overflow": null,
       "overflow_x": null,
       "overflow_y": null,
       "padding": null,
       "right": null,
       "top": null,
       "visibility": null,
       "width": null
      }
     },
     "75069c2be8894199bac913699ab4b225": {
      "model_module": "@jupyter-widgets/controls",
      "model_module_version": "1.5.0",
      "model_name": "HTMLModel",
      "state": {
       "_dom_classes": [],
       "_model_module": "@jupyter-widgets/controls",
       "_model_module_version": "1.5.0",
       "_model_name": "HTMLModel",
       "_view_count": null,
       "_view_module": "@jupyter-widgets/controls",
       "_view_module_version": "1.5.0",
       "_view_name": "HTMLView",
       "description": "",
       "description_tooltip": null,
       "layout": "IPY_MODEL_291c15bcf82b42d7baea8d94052a392a",
       "placeholder": "​",
       "style": "IPY_MODEL_cb6a3dc72f8c474490cd755d2b8f97fe",
       "value": " 3/3 [00:00&lt;00:00, 115.99it/s]"
      }
     },
     "76334ad4d8f64ad68ba9c234d9554951": {
      "model_module": "@jupyter-widgets/controls",
      "model_module_version": "1.5.0",
      "model_name": "DescriptionStyleModel",
      "state": {
       "_model_module": "@jupyter-widgets/controls",
       "_model_module_version": "1.5.0",
       "_model_name": "DescriptionStyleModel",
       "_view_count": null,
       "_view_module": "@jupyter-widgets/base",
       "_view_module_version": "1.2.0",
       "_view_name": "StyleView",
       "description_width": ""
      }
     },
     "7a11f3c0055949b1ac988a367698138b": {
      "model_module": "@jupyter-widgets/base",
      "model_module_version": "1.2.0",
      "model_name": "LayoutModel",
      "state": {
       "_model_module": "@jupyter-widgets/base",
       "_model_module_version": "1.2.0",
       "_model_name": "LayoutModel",
       "_view_count": null,
       "_view_module": "@jupyter-widgets/base",
       "_view_module_version": "1.2.0",
       "_view_name": "LayoutView",
       "align_content": null,
       "align_items": null,
       "align_self": null,
       "border": null,
       "bottom": null,
       "display": null,
       "flex": null,
       "flex_flow": null,
       "grid_area": null,
       "grid_auto_columns": null,
       "grid_auto_flow": null,
       "grid_auto_rows": null,
       "grid_column": null,
       "grid_gap": null,
       "grid_row": null,
       "grid_template_areas": null,
       "grid_template_columns": null,
       "grid_template_rows": null,
       "height": null,
       "justify_content": null,
       "justify_items": null,
       "left": null,
       "margin": null,
       "max_height": null,
       "max_width": null,
       "min_height": null,
       "min_width": null,
       "object_fit": null,
       "object_position": null,
       "order": null,
       "overflow": null,
       "overflow_x": null,
       "overflow_y": null,
       "padding": null,
       "right": null,
       "top": null,
       "visibility": null,
       "width": null
      }
     },
     "7a6fc53cd29f4c4b996aa17dc1dbc161": {
      "model_module": "@jupyter-widgets/base",
      "model_module_version": "1.2.0",
      "model_name": "LayoutModel",
      "state": {
       "_model_module": "@jupyter-widgets/base",
       "_model_module_version": "1.2.0",
       "_model_name": "LayoutModel",
       "_view_count": null,
       "_view_module": "@jupyter-widgets/base",
       "_view_module_version": "1.2.0",
       "_view_name": "LayoutView",
       "align_content": null,
       "align_items": null,
       "align_self": null,
       "border": null,
       "bottom": null,
       "display": null,
       "flex": null,
       "flex_flow": null,
       "grid_area": null,
       "grid_auto_columns": null,
       "grid_auto_flow": null,
       "grid_auto_rows": null,
       "grid_column": null,
       "grid_gap": null,
       "grid_row": null,
       "grid_template_areas": null,
       "grid_template_columns": null,
       "grid_template_rows": null,
       "height": null,
       "justify_content": null,
       "justify_items": null,
       "left": null,
       "margin": null,
       "max_height": null,
       "max_width": null,
       "min_height": null,
       "min_width": null,
       "object_fit": null,
       "object_position": null,
       "order": null,
       "overflow": null,
       "overflow_x": null,
       "overflow_y": null,
       "padding": null,
       "right": null,
       "top": null,
       "visibility": null,
       "width": null
      }
     },
     "7ada4166bd3e46b697a1d90a83d13404": {
      "model_module": "@jupyter-widgets/controls",
      "model_module_version": "1.5.0",
      "model_name": "ProgressStyleModel",
      "state": {
       "_model_module": "@jupyter-widgets/controls",
       "_model_module_version": "1.5.0",
       "_model_name": "ProgressStyleModel",
       "_view_count": null,
       "_view_module": "@jupyter-widgets/base",
       "_view_module_version": "1.2.0",
       "_view_name": "StyleView",
       "bar_color": null,
       "description_width": ""
      }
     },
     "7c3f5bf1d579406ea4f12420e6c3f75d": {
      "model_module": "@jupyter-widgets/controls",
      "model_module_version": "1.5.0",
      "model_name": "ProgressStyleModel",
      "state": {
       "_model_module": "@jupyter-widgets/controls",
       "_model_module_version": "1.5.0",
       "_model_name": "ProgressStyleModel",
       "_view_count": null,
       "_view_module": "@jupyter-widgets/base",
       "_view_module_version": "1.2.0",
       "_view_name": "StyleView",
       "bar_color": null,
       "description_width": ""
      }
     },
     "8024afff249a43eca91a57908e05e3f0": {
      "model_module": "@jupyter-widgets/controls",
      "model_module_version": "1.5.0",
      "model_name": "FloatProgressModel",
      "state": {
       "_dom_classes": [],
       "_model_module": "@jupyter-widgets/controls",
       "_model_module_version": "1.5.0",
       "_model_name": "FloatProgressModel",
       "_view_count": null,
       "_view_module": "@jupyter-widgets/controls",
       "_view_module_version": "1.5.0",
       "_view_name": "ProgressView",
       "bar_style": "",
       "description": "",
       "description_tooltip": null,
       "layout": "IPY_MODEL_b504081ffd9d41e19c6a5740f880f062",
       "max": 392702.0,
       "min": 0.0,
       "orientation": "horizontal",
       "style": "IPY_MODEL_7ada4166bd3e46b697a1d90a83d13404",
       "value": 392702.0
      }
     },
     "8e29d383b8b44bec8ea00a05c33f2521": {
      "model_module": "@jupyter-widgets/controls",
      "model_module_version": "1.5.0",
      "model_name": "HTMLModel",
      "state": {
       "_dom_classes": [],
       "_model_module": "@jupyter-widgets/controls",
       "_model_module_version": "1.5.0",
       "_model_name": "HTMLModel",
       "_view_count": null,
       "_view_module": "@jupyter-widgets/controls",
       "_view_module_version": "1.5.0",
       "_view_name": "HTMLView",
       "description": "",
       "description_tooltip": null,
       "layout": "IPY_MODEL_d5b7b7fada93450e8f36f1c8f7a0e172",
       "placeholder": "​",
       "style": "IPY_MODEL_4d51892e07304ce284e9ec5d39daca30",
       "value": " 2.88k/? [00:00&lt;00:00, 185kB/s]"
      }
     },
     "93171e12111e4a2d91ee17d2fde6820f": {
      "model_module": "@jupyter-widgets/controls",
      "model_module_version": "1.5.0",
      "model_name": "DescriptionStyleModel",
      "state": {
       "_model_module": "@jupyter-widgets/controls",
       "_model_module_version": "1.5.0",
       "_model_name": "DescriptionStyleModel",
       "_view_count": null,
       "_view_module": "@jupyter-widgets/base",
       "_view_module_version": "1.2.0",
       "_view_name": "StyleView",
       "description_width": ""
      }
     },
     "97eff0a4e91e43febdb59d2729e15284": {
      "model_module": "@jupyter-widgets/base",
      "model_module_version": "1.2.0",
      "model_name": "LayoutModel",
      "state": {
       "_model_module": "@jupyter-widgets/base",
       "_model_module_version": "1.2.0",
       "_model_name": "LayoutModel",
       "_view_count": null,
       "_view_module": "@jupyter-widgets/base",
       "_view_module_version": "1.2.0",
       "_view_name": "LayoutView",
       "align_content": null,
       "align_items": null,
       "align_self": null,
       "border": null,
       "bottom": null,
       "display": null,
       "flex": null,
       "flex_flow": null,
       "grid_area": null,
       "grid_auto_columns": null,
       "grid_auto_flow": null,
       "grid_auto_rows": null,
       "grid_column": null,
       "grid_gap": null,
       "grid_row": null,
       "grid_template_areas": null,
       "grid_template_columns": null,
       "grid_template_rows": null,
       "height": null,
       "justify_content": null,
       "justify_items": null,
       "left": null,
       "margin": null,
       "max_height": null,
       "max_width": null,
       "min_height": null,
       "min_width": null,
       "object_fit": null,
       "object_position": null,
       "order": null,
       "overflow": null,
       "overflow_x": null,
       "overflow_y": null,
       "padding": null,
       "right": null,
       "top": null,
       "visibility": null,
       "width": null
      }
     },
     "9f5a07ed22e247ab8630054bea1c5490": {
      "model_module": "@jupyter-widgets/controls",
      "model_module_version": "1.5.0",
      "model_name": "HBoxModel",
      "state": {
       "_dom_classes": [],
       "_model_module": "@jupyter-widgets/controls",
       "_model_module_version": "1.5.0",
       "_model_name": "HBoxModel",
       "_view_count": null,
       "_view_module": "@jupyter-widgets/controls",
       "_view_module_version": "1.5.0",
       "_view_name": "HBoxView",
       "box_style": "",
       "children": [
        "IPY_MODEL_283722beceb54d32ab89a6141673accf",
        "IPY_MODEL_aa733429c61b4323ad010785e2ffd7ac",
        "IPY_MODEL_ef177174402d40c48e87b929dddd6083"
       ],
       "layout": "IPY_MODEL_b4319f7276bb41d6b102efe4a6fbed62"
      }
     },
     "a6aeb3649db643bab133389935d25efe": {
      "model_module": "@jupyter-widgets/controls",
      "model_module_version": "1.5.0",
      "model_name": "HTMLModel",
      "state": {
       "_dom_classes": [],
       "_model_module": "@jupyter-widgets/controls",
       "_model_module_version": "1.5.0",
       "_model_name": "HTMLModel",
       "_view_count": null,
       "_view_module": "@jupyter-widgets/controls",
       "_view_module_version": "1.5.0",
       "_view_name": "HTMLView",
       "description": "",
       "description_tooltip": null,
       "layout": "IPY_MODEL_295b6291b62d4e59b6f4c0dbeafcc800",
       "placeholder": "​",
       "style": "IPY_MODEL_93171e12111e4a2d91ee17d2fde6820f",
       "value": "Downloading builder script: "
      }
     },
     "a91950f4d4024776a899ea762cd7afca": {
      "model_module": "@jupyter-widgets/base",
      "model_module_version": "1.2.0",
      "model_name": "LayoutModel",
      "state": {
       "_model_module": "@jupyter-widgets/base",
       "_model_module_version": "1.2.0",
       "_model_name": "LayoutModel",
       "_view_count": null,
       "_view_module": "@jupyter-widgets/base",
       "_view_module_version": "1.2.0",
       "_view_name": "LayoutView",
       "align_content": null,
       "align_items": null,
       "align_self": null,
       "border": null,
       "bottom": null,
       "display": null,
       "flex": null,
       "flex_flow": null,
       "grid_area": null,
       "grid_auto_columns": null,
       "grid_auto_flow": null,
       "grid_auto_rows": null,
       "grid_column": null,
       "grid_gap": null,
       "grid_row": null,
       "grid_template_areas": null,
       "grid_template_columns": null,
       "grid_template_rows": null,
       "height": null,
       "justify_content": null,
       "justify_items": null,
       "left": null,
       "margin": null,
       "max_height": null,
       "max_width": null,
       "min_height": null,
       "min_width": null,
       "object_fit": null,
       "object_position": null,
       "order": null,
       "overflow": null,
       "overflow_x": null,
       "overflow_y": null,
       "padding": null,
       "right": null,
       "top": null,
       "visibility": null,
       "width": null
      }
     },
     "aa733429c61b4323ad010785e2ffd7ac": {
      "model_module": "@jupyter-widgets/controls",
      "model_module_version": "1.5.0",
      "model_name": "FloatProgressModel",
      "state": {
       "_dom_classes": [],
       "_model_module": "@jupyter-widgets/controls",
       "_model_module_version": "1.5.0",
       "_model_name": "FloatProgressModel",
       "_view_count": null,
       "_view_module": "@jupyter-widgets/controls",
       "_view_module_version": "1.5.0",
       "_view_name": "ProgressView",
       "bar_style": "success",
       "description": "",
       "description_tooltip": null,
       "layout": "IPY_MODEL_201fbdcce8ce48e3a0cdae2cc6814cd0",
       "max": 226850426.0,
       "min": 0.0,
       "orientation": "horizontal",
       "style": "IPY_MODEL_ef2f1bb74dcf4aa6827f2f8380b156ca",
       "value": 226850426.0
      }
     },
     "aaebded4236f43c48a0099cdb44a499a": {
      "model_module": "@jupyter-widgets/controls",
      "model_module_version": "1.5.0",
      "model_name": "ProgressStyleModel",
      "state": {
       "_model_module": "@jupyter-widgets/controls",
       "_model_module_version": "1.5.0",
       "_model_name": "ProgressStyleModel",
       "_view_count": null,
       "_view_module": "@jupyter-widgets/base",
       "_view_module_version": "1.2.0",
       "_view_name": "StyleView",
       "bar_color": null,
       "description_width": ""
      }
     },
     "acab8bcc3d074ade8966fb240204bef2": {
      "model_module": "@jupyter-widgets/base",
      "model_module_version": "1.2.0",
      "model_name": "LayoutModel",
      "state": {
       "_model_module": "@jupyter-widgets/base",
       "_model_module_version": "1.2.0",
       "_model_name": "LayoutModel",
       "_view_count": null,
       "_view_module": "@jupyter-widgets/base",
       "_view_module_version": "1.2.0",
       "_view_name": "LayoutView",
       "align_content": null,
       "align_items": null,
       "align_self": null,
       "border": null,
       "bottom": null,
       "display": null,
       "flex": null,
       "flex_flow": null,
       "grid_area": null,
       "grid_auto_columns": null,
       "grid_auto_flow": null,
       "grid_auto_rows": null,
       "grid_column": null,
       "grid_gap": null,
       "grid_row": null,
       "grid_template_areas": null,
       "grid_template_columns": null,
       "grid_template_rows": null,
       "height": null,
       "justify_content": null,
       "justify_items": null,
       "left": null,
       "margin": null,
       "max_height": null,
       "max_width": null,
       "min_height": null,
       "min_width": null,
       "object_fit": null,
       "object_position": null,
       "order": null,
       "overflow": null,
       "overflow_x": null,
       "overflow_y": null,
       "padding": null,
       "right": null,
       "top": null,
       "visibility": null,
       "width": null
      }
     },
     "b380788b1a7d41e18412cc23f390fce8": {
      "model_module": "@jupyter-widgets/controls",
      "model_module_version": "1.5.0",
      "model_name": "HTMLModel",
      "state": {
       "_dom_classes": [],
       "_model_module": "@jupyter-widgets/controls",
       "_model_module_version": "1.5.0",
       "_model_name": "HTMLModel",
       "_view_count": null,
       "_view_module": "@jupyter-widgets/controls",
       "_view_module_version": "1.5.0",
       "_view_name": "HTMLView",
       "description": "",
       "description_tooltip": null,
       "layout": "IPY_MODEL_2e197347123640888ef650a8c5669d33",
       "placeholder": "​",
       "style": "IPY_MODEL_4fca74301b1545bebedd201a4b0f8181",
       "value": "Generating validation_matched split: 100%"
      }
     },
     "b4319f7276bb41d6b102efe4a6fbed62": {
      "model_module": "@jupyter-widgets/base",
      "model_module_version": "1.2.0",
      "model_name": "LayoutModel",
      "state": {
       "_model_module": "@jupyter-widgets/base",
       "_model_module_version": "1.2.0",
       "_model_name": "LayoutModel",
       "_view_count": null,
       "_view_module": "@jupyter-widgets/base",
       "_view_module_version": "1.2.0",
       "_view_name": "LayoutView",
       "align_content": null,
       "align_items": null,
       "align_self": null,
       "border": null,
       "bottom": null,
       "display": null,
       "flex": null,
       "flex_flow": null,
       "grid_area": null,
       "grid_auto_columns": null,
       "grid_auto_flow": null,
       "grid_auto_rows": null,
       "grid_column": null,
       "grid_gap": null,
       "grid_row": null,
       "grid_template_areas": null,
       "grid_template_columns": null,
       "grid_template_rows": null,
       "height": null,
       "justify_content": null,
       "justify_items": null,
       "left": null,
       "margin": null,
       "max_height": null,
       "max_width": null,
       "min_height": null,
       "min_width": null,
       "object_fit": null,
       "object_position": null,
       "order": null,
       "overflow": null,
       "overflow_x": null,
       "overflow_y": null,
       "padding": null,
       "right": null,
       "top": null,
       "visibility": null,
       "width": null
      }
     },
     "b504081ffd9d41e19c6a5740f880f062": {
      "model_module": "@jupyter-widgets/base",
      "model_module_version": "1.2.0",
      "model_name": "LayoutModel",
      "state": {
       "_model_module": "@jupyter-widgets/base",
       "_model_module_version": "1.2.0",
       "_model_name": "LayoutModel",
       "_view_count": null,
       "_view_module": "@jupyter-widgets/base",
       "_view_module_version": "1.2.0",
       "_view_name": "LayoutView",
       "align_content": null,
       "align_items": null,
       "align_self": null,
       "border": null,
       "bottom": null,
       "display": null,
       "flex": null,
       "flex_flow": null,
       "grid_area": null,
       "grid_auto_columns": null,
       "grid_auto_flow": null,
       "grid_auto_rows": null,
       "grid_column": null,
       "grid_gap": null,
       "grid_row": null,
       "grid_template_areas": null,
       "grid_template_columns": null,
       "grid_template_rows": null,
       "height": null,
       "justify_content": null,
       "justify_items": null,
       "left": null,
       "margin": null,
       "max_height": null,
       "max_width": null,
       "min_height": null,
       "min_width": null,
       "object_fit": null,
       "object_position": null,
       "order": null,
       "overflow": null,
       "overflow_x": null,
       "overflow_y": null,
       "padding": null,
       "right": null,
       "top": null,
       "visibility": null,
       "width": null
      }
     },
     "b9cf49b61d1648b1a749243dbf40424f": {
      "model_module": "@jupyter-widgets/base",
      "model_module_version": "1.2.0",
      "model_name": "LayoutModel",
      "state": {
       "_model_module": "@jupyter-widgets/base",
       "_model_module_version": "1.2.0",
       "_model_name": "LayoutModel",
       "_view_count": null,
       "_view_module": "@jupyter-widgets/base",
       "_view_module_version": "1.2.0",
       "_view_name": "LayoutView",
       "align_content": null,
       "align_items": null,
       "align_self": null,
       "border": null,
       "bottom": null,
       "display": null,
       "flex": null,
       "flex_flow": null,
       "grid_area": null,
       "grid_auto_columns": null,
       "grid_auto_flow": null,
       "grid_auto_rows": null,
       "grid_column": null,
       "grid_gap": null,
       "grid_row": null,
       "grid_template_areas": null,
       "grid_template_columns": null,
       "grid_template_rows": null,
       "height": null,
       "justify_content": null,
       "justify_items": null,
       "left": null,
       "margin": null,
       "max_height": null,
       "max_width": null,
       "min_height": null,
       "min_width": null,
       "object_fit": null,
       "object_position": null,
       "order": null,
       "overflow": null,
       "overflow_x": null,
       "overflow_y": null,
       "padding": null,
       "right": null,
       "top": null,
       "visibility": "hidden",
       "width": null
      }
     },
     "bb0a8dba5a574135978a9fe6296ed2d3": {
      "model_module": "@jupyter-widgets/base",
      "model_module_version": "1.2.0",
      "model_name": "LayoutModel",
      "state": {
       "_model_module": "@jupyter-widgets/base",
       "_model_module_version": "1.2.0",
       "_model_name": "LayoutModel",
       "_view_count": null,
       "_view_module": "@jupyter-widgets/base",
       "_view_module_version": "1.2.0",
       "_view_name": "LayoutView",
       "align_content": null,
       "align_items": null,
       "align_self": null,
       "border": null,
       "bottom": null,
       "display": null,
       "flex": null,
       "flex_flow": null,
       "grid_area": null,
       "grid_auto_columns": null,
       "grid_auto_flow": null,
       "grid_auto_rows": null,
       "grid_column": null,
       "grid_gap": null,
       "grid_row": null,
       "grid_template_areas": null,
       "grid_template_columns": null,
       "grid_template_rows": null,
       "height": null,
       "justify_content": null,
       "justify_items": null,
       "left": null,
       "margin": null,
       "max_height": null,
       "max_width": null,
       "min_height": null,
       "min_width": null,
       "object_fit": null,
       "object_position": null,
       "order": null,
       "overflow": null,
       "overflow_x": null,
       "overflow_y": null,
       "padding": null,
       "right": null,
       "top": null,
       "visibility": null,
       "width": null
      }
     },
     "bb1b2f5a8ff346c2ae5a3aa18b28f387": {
      "model_module": "@jupyter-widgets/controls",
      "model_module_version": "1.5.0",
      "model_name": "DescriptionStyleModel",
      "state": {
       "_model_module": "@jupyter-widgets/controls",
       "_model_module_version": "1.5.0",
       "_model_name": "DescriptionStyleModel",
       "_view_count": null,
       "_view_module": "@jupyter-widgets/base",
       "_view_module_version": "1.2.0",
       "_view_name": "StyleView",
       "description_width": ""
      }
     },
     "c056d34ec41e4daf8a8ea8b00ee8a09e": {
      "model_module": "@jupyter-widgets/controls",
      "model_module_version": "1.5.0",
      "model_name": "HTMLModel",
      "state": {
       "_dom_classes": [],
       "_model_module": "@jupyter-widgets/controls",
       "_model_module_version": "1.5.0",
       "_model_name": "HTMLModel",
       "_view_count": null,
       "_view_module": "@jupyter-widgets/controls",
       "_view_module_version": "1.5.0",
       "_view_name": "HTMLView",
       "description": "",
       "description_tooltip": null,
       "layout": "IPY_MODEL_7a6fc53cd29f4c4b996aa17dc1dbc161",
       "placeholder": "​",
       "style": "IPY_MODEL_f8faa82bac6f443d9035b1467c864922",
       "value": " 5.14k/? [00:00&lt;00:00, 284kB/s]"
      }
     },
     "c0ae74cbc50f4867acbea9fd065ef5b2": {
      "model_module": "@jupyter-widgets/base",
      "model_module_version": "1.2.0",
      "model_name": "LayoutModel",
      "state": {
       "_model_module": "@jupyter-widgets/base",
       "_model_module_version": "1.2.0",
       "_model_name": "LayoutModel",
       "_view_count": null,
       "_view_module": "@jupyter-widgets/base",
       "_view_module_version": "1.2.0",
       "_view_name": "LayoutView",
       "align_content": null,
       "align_items": null,
       "align_self": null,
       "border": null,
       "bottom": null,
       "display": null,
       "flex": null,
       "flex_flow": null,
       "grid_area": null,
       "grid_auto_columns": null,
       "grid_auto_flow": null,
       "grid_auto_rows": null,
       "grid_column": null,
       "grid_gap": null,
       "grid_row": null,
       "grid_template_areas": null,
       "grid_template_columns": null,
       "grid_template_rows": null,
       "height": null,
       "justify_content": null,
       "justify_items": null,
       "left": null,
       "margin": null,
       "max_height": null,
       "max_width": null,
       "min_height": null,
       "min_width": null,
       "object_fit": null,
       "object_position": null,
       "order": null,
       "overflow": null,
       "overflow_x": null,
       "overflow_y": null,
       "padding": null,
       "right": null,
       "top": null,
       "visibility": null,
       "width": null
      }
     },
     "ca3a3838e4f543ae964f3935847c558b": {
      "model_module": "@jupyter-widgets/base",
      "model_module_version": "1.2.0",
      "model_name": "LayoutModel",
      "state": {
       "_model_module": "@jupyter-widgets/base",
       "_model_module_version": "1.2.0",
       "_model_name": "LayoutModel",
       "_view_count": null,
       "_view_module": "@jupyter-widgets/base",
       "_view_module_version": "1.2.0",
       "_view_name": "LayoutView",
       "align_content": null,
       "align_items": null,
       "align_self": null,
       "border": null,
       "bottom": null,
       "display": null,
       "flex": null,
       "flex_flow": null,
       "grid_area": null,
       "grid_auto_columns": null,
       "grid_auto_flow": null,
       "grid_auto_rows": null,
       "grid_column": null,
       "grid_gap": null,
       "grid_row": null,
       "grid_template_areas": null,
       "grid_template_columns": null,
       "grid_template_rows": null,
       "height": null,
       "justify_content": null,
       "justify_items": null,
       "left": null,
       "margin": null,
       "max_height": null,
       "max_width": null,
       "min_height": null,
       "min_width": null,
       "object_fit": null,
       "object_position": null,
       "order": null,
       "overflow": null,
       "overflow_x": null,
       "overflow_y": null,
       "padding": null,
       "right": null,
       "top": null,
       "visibility": null,
       "width": null
      }
     },
     "cb4e84c018dd462aba86c409d9459059": {
      "model_module": "@jupyter-widgets/controls",
      "model_module_version": "1.5.0",
      "model_name": "FloatProgressModel",
      "state": {
       "_dom_classes": [],
       "_model_module": "@jupyter-widgets/controls",
       "_model_module_version": "1.5.0",
       "_model_name": "FloatProgressModel",
       "_view_count": null,
       "_view_module": "@jupyter-widgets/controls",
       "_view_module_version": "1.5.0",
       "_view_name": "ProgressView",
       "bar_style": "success",
       "description": "",
       "description_tooltip": null,
       "layout": "IPY_MODEL_097438a2a65442bb863e6578a580151c",
       "max": 1193.0,
       "min": 0.0,
       "orientation": "horizontal",
       "style": "IPY_MODEL_7c3f5bf1d579406ea4f12420e6c3f75d",
       "value": 1193.0
      }
     },
     "cb6a3dc72f8c474490cd755d2b8f97fe": {
      "model_module": "@jupyter-widgets/controls",
      "model_module_version": "1.5.0",
      "model_name": "DescriptionStyleModel",
      "state": {
       "_model_module": "@jupyter-widgets/controls",
       "_model_module_version": "1.5.0",
       "_model_name": "DescriptionStyleModel",
       "_view_count": null,
       "_view_module": "@jupyter-widgets/base",
       "_view_module_version": "1.2.0",
       "_view_name": "StyleView",
       "description_width": ""
      }
     },
     "ce2f387e9b264e2e818e08d46709fb18": {
      "model_module": "@jupyter-widgets/base",
      "model_module_version": "1.2.0",
      "model_name": "LayoutModel",
      "state": {
       "_model_module": "@jupyter-widgets/base",
       "_model_module_version": "1.2.0",
       "_model_name": "LayoutModel",
       "_view_count": null,
       "_view_module": "@jupyter-widgets/base",
       "_view_module_version": "1.2.0",
       "_view_name": "LayoutView",
       "align_content": null,
       "align_items": null,
       "align_self": null,
       "border": null,
       "bottom": null,
       "display": null,
       "flex": null,
       "flex_flow": null,
       "grid_area": null,
       "grid_auto_columns": null,
       "grid_auto_flow": null,
       "grid_auto_rows": null,
       "grid_column": null,
       "grid_gap": null,
       "grid_row": null,
       "grid_template_areas": null,
       "grid_template_columns": null,
       "grid_template_rows": null,
       "height": null,
       "justify_content": null,
       "justify_items": null,
       "left": null,
       "margin": null,
       "max_height": null,
       "max_width": null,
       "min_height": null,
       "min_width": null,
       "object_fit": null,
       "object_position": null,
       "order": null,
       "overflow": null,
       "overflow_x": null,
       "overflow_y": null,
       "padding": null,
       "right": null,
       "top": null,
       "visibility": "hidden",
       "width": null
      }
     },
     "d168031b958049e4ac57fccc83f3f9bd": {
      "model_module": "@jupyter-widgets/base",
      "model_module_version": "1.2.0",
      "model_name": "LayoutModel",
      "state": {
       "_model_module": "@jupyter-widgets/base",
       "_model_module_version": "1.2.0",
       "_model_name": "LayoutModel",
       "_view_count": null,
       "_view_module": "@jupyter-widgets/base",
       "_view_module_version": "1.2.0",
       "_view_name": "LayoutView",
       "align_content": null,
       "align_items": null,
       "align_self": null,
       "border": null,
       "bottom": null,
       "display": null,
       "flex": null,
       "flex_flow": null,
       "grid_area": null,
       "grid_auto_columns": null,
       "grid_auto_flow": null,
       "grid_auto_rows": null,
       "grid_column": null,
       "grid_gap": null,
       "grid_row": null,
       "grid_template_areas": null,
       "grid_template_columns": null,
       "grid_template_rows": null,
       "height": null,
       "justify_content": null,
       "justify_items": null,
       "left": null,
       "margin": null,
       "max_height": null,
       "max_width": null,
       "min_height": null,
       "min_width": null,
       "object_fit": null,
       "object_position": null,
       "order": null,
       "overflow": null,
       "overflow_x": null,
       "overflow_y": null,
       "padding": null,
       "right": null,
       "top": null,
       "visibility": null,
       "width": null
      }
     },
     "d2e907c5bb2547169b6af52e83139928": {
      "model_module": "@jupyter-widgets/controls",
      "model_module_version": "1.5.0",
      "model_name": "DescriptionStyleModel",
      "state": {
       "_model_module": "@jupyter-widgets/controls",
       "_model_module_version": "1.5.0",
       "_model_name": "DescriptionStyleModel",
       "_view_count": null,
       "_view_module": "@jupyter-widgets/base",
       "_view_module_version": "1.2.0",
       "_view_name": "StyleView",
       "description_width": ""
      }
     },
     "d5b7b7fada93450e8f36f1c8f7a0e172": {
      "model_module": "@jupyter-widgets/base",
      "model_module_version": "1.2.0",
      "model_name": "LayoutModel",
      "state": {
       "_model_module": "@jupyter-widgets/base",
       "_model_module_version": "1.2.0",
       "_model_name": "LayoutModel",
       "_view_count": null,
       "_view_module": "@jupyter-widgets/base",
       "_view_module_version": "1.2.0",
       "_view_name": "LayoutView",
       "align_content": null,
       "align_items": null,
       "align_self": null,
       "border": null,
       "bottom": null,
       "display": null,
       "flex": null,
       "flex_flow": null,
       "grid_area": null,
       "grid_auto_columns": null,
       "grid_auto_flow": null,
       "grid_auto_rows": null,
       "grid_column": null,
       "grid_gap": null,
       "grid_row": null,
       "grid_template_areas": null,
       "grid_template_columns": null,
       "grid_template_rows": null,
       "height": null,
       "justify_content": null,
       "justify_items": null,
       "left": null,
       "margin": null,
       "max_height": null,
       "max_width": null,
       "min_height": null,
       "min_width": null,
       "object_fit": null,
       "object_position": null,
       "order": null,
       "overflow": null,
       "overflow_x": null,
       "overflow_y": null,
       "padding": null,
       "right": null,
       "top": null,
       "visibility": null,
       "width": null
      }
     },
     "dafd06682d224ce1be8ccddbdf6bcf56": {
      "model_module": "@jupyter-widgets/controls",
      "model_module_version": "1.5.0",
      "model_name": "DescriptionStyleModel",
      "state": {
       "_model_module": "@jupyter-widgets/controls",
       "_model_module_version": "1.5.0",
       "_model_name": "DescriptionStyleModel",
       "_view_count": null,
       "_view_module": "@jupyter-widgets/base",
       "_view_module_version": "1.2.0",
       "_view_name": "StyleView",
       "description_width": ""
      }
     },
     "e16ab63f91334526b452364c0a86af86": {
      "model_module": "@jupyter-widgets/base",
      "model_module_version": "1.2.0",
      "model_name": "LayoutModel",
      "state": {
       "_model_module": "@jupyter-widgets/base",
       "_model_module_version": "1.2.0",
       "_model_name": "LayoutModel",
       "_view_count": null,
       "_view_module": "@jupyter-widgets/base",
       "_view_module_version": "1.2.0",
       "_view_name": "LayoutView",
       "align_content": null,
       "align_items": null,
       "align_self": null,
       "border": null,
       "bottom": null,
       "display": null,
       "flex": null,
       "flex_flow": null,
       "grid_area": null,
       "grid_auto_columns": null,
       "grid_auto_flow": null,
       "grid_auto_rows": null,
       "grid_column": null,
       "grid_gap": null,
       "grid_row": null,
       "grid_template_areas": null,
       "grid_template_columns": null,
       "grid_template_rows": null,
       "height": null,
       "justify_content": null,
       "justify_items": null,
       "left": null,
       "margin": null,
       "max_height": null,
       "max_width": null,
       "min_height": null,
       "min_width": null,
       "object_fit": null,
       "object_position": null,
       "order": null,
       "overflow": null,
       "overflow_x": null,
       "overflow_y": null,
       "padding": null,
       "right": null,
       "top": null,
       "visibility": "hidden",
       "width": null
      }
     },
     "e51732877c26453fa72de9783d819c92": {
      "model_module": "@jupyter-widgets/controls",
      "model_module_version": "1.5.0",
      "model_name": "HTMLModel",
      "state": {
       "_dom_classes": [],
       "_model_module": "@jupyter-widgets/controls",
       "_model_module_version": "1.5.0",
       "_model_name": "HTMLModel",
       "_view_count": null,
       "_view_module": "@jupyter-widgets/controls",
       "_view_module_version": "1.5.0",
       "_view_name": "HTMLView",
       "description": "",
       "description_tooltip": null,
       "layout": "IPY_MODEL_7a11f3c0055949b1ac988a367698138b",
       "placeholder": "​",
       "style": "IPY_MODEL_bb1b2f5a8ff346c2ae5a3aa18b28f387",
       "value": " 9786/9815 [00:01&lt;00:00, 7062.90 examples/s]"
      }
     },
     "e55f04271d6d4c01996a4f1c6dd1c140": {
      "model_module": "@jupyter-widgets/controls",
      "model_module_version": "1.5.0",
      "model_name": "DescriptionStyleModel",
      "state": {
       "_model_module": "@jupyter-widgets/controls",
       "_model_module_version": "1.5.0",
       "_model_name": "DescriptionStyleModel",
       "_view_count": null,
       "_view_module": "@jupyter-widgets/base",
       "_view_module_version": "1.2.0",
       "_view_name": "StyleView",
       "description_width": ""
      }
     },
     "e63e35dfeafc4c2ca70117f725f79ca7": {
      "model_module": "@jupyter-widgets/controls",
      "model_module_version": "1.5.0",
      "model_name": "HTMLModel",
      "state": {
       "_dom_classes": [],
       "_model_module": "@jupyter-widgets/controls",
       "_model_module_version": "1.5.0",
       "_model_name": "HTMLModel",
       "_view_count": null,
       "_view_module": "@jupyter-widgets/controls",
       "_view_module_version": "1.5.0",
       "_view_name": "HTMLView",
       "description": "",
       "description_tooltip": null,
       "layout": "IPY_MODEL_1abc2ad7d09845f5aeea7976ac4d26d3",
       "placeholder": "​",
       "style": "IPY_MODEL_e55f04271d6d4c01996a4f1c6dd1c140",
       "value": "Downloading metadata: "
      }
     },
     "ee1af3358c6c42d59e99f3c6f2e4bc7a": {
      "model_module": "@jupyter-widgets/controls",
      "model_module_version": "1.5.0",
      "model_name": "ProgressStyleModel",
      "state": {
       "_model_module": "@jupyter-widgets/controls",
       "_model_module_version": "1.5.0",
       "_model_name": "ProgressStyleModel",
       "_view_count": null,
       "_view_module": "@jupyter-widgets/base",
       "_view_module_version": "1.2.0",
       "_view_name": "StyleView",
       "bar_color": null,
       "description_width": ""
      }
     },
     "ef177174402d40c48e87b929dddd6083": {
      "model_module": "@jupyter-widgets/controls",
      "model_module_version": "1.5.0",
      "model_name": "HTMLModel",
      "state": {
       "_dom_classes": [],
       "_model_module": "@jupyter-widgets/controls",
       "_model_module_version": "1.5.0",
       "_model_name": "HTMLModel",
       "_view_count": null,
       "_view_module": "@jupyter-widgets/controls",
       "_view_module_version": "1.5.0",
       "_view_name": "HTMLView",
       "description": "",
       "description_tooltip": null,
       "layout": "IPY_MODEL_a91950f4d4024776a899ea762cd7afca",
       "placeholder": "​",
       "style": "IPY_MODEL_1eef79c6e8b940f39754a2942c70ab7e",
       "value": " 227M/227M [00:07&lt;00:00, 30.4MB/s]"
      }
     },
     "ef2f1bb74dcf4aa6827f2f8380b156ca": {
      "model_module": "@jupyter-widgets/controls",
      "model_module_version": "1.5.0",
      "model_name": "ProgressStyleModel",
      "state": {
       "_model_module": "@jupyter-widgets/controls",
       "_model_module_version": "1.5.0",
       "_model_name": "ProgressStyleModel",
       "_view_count": null,
       "_view_module": "@jupyter-widgets/base",
       "_view_module_version": "1.2.0",
       "_view_name": "StyleView",
       "bar_color": null,
       "description_width": ""
      }
     },
     "f49971da09434dad93429516c3791a39": {
      "model_module": "@jupyter-widgets/controls",
      "model_module_version": "1.5.0",
      "model_name": "FloatProgressModel",
      "state": {
       "_dom_classes": [],
       "_model_module": "@jupyter-widgets/controls",
       "_model_module_version": "1.5.0",
       "_model_name": "FloatProgressModel",
       "_view_count": null,
       "_view_module": "@jupyter-widgets/controls",
       "_view_module_version": "1.5.0",
       "_view_name": "ProgressView",
       "bar_style": "success",
       "description": "",
       "description_tooltip": null,
       "layout": "IPY_MODEL_bb0a8dba5a574135978a9fe6296ed2d3",
       "max": 3.0,
       "min": 0.0,
       "orientation": "horizontal",
       "style": "IPY_MODEL_ee1af3358c6c42d59e99f3c6f2e4bc7a",
       "value": 3.0
      }
     },
     "f7f4d2f9d03c40cf8db3365d1d52f76b": {
      "model_module": "@jupyter-widgets/controls",
      "model_module_version": "1.5.0",
      "model_name": "HBoxModel",
      "state": {
       "_dom_classes": [],
       "_model_module": "@jupyter-widgets/controls",
       "_model_module_version": "1.5.0",
       "_model_name": "HBoxModel",
       "_view_count": null,
       "_view_module": "@jupyter-widgets/controls",
       "_view_module_version": "1.5.0",
       "_view_name": "HBoxView",
       "box_style": "",
       "children": [
        "IPY_MODEL_a6aeb3649db643bab133389935d25efe",
        "IPY_MODEL_6ba9b09874274f888b6b5e153d5ab001",
        "IPY_MODEL_c056d34ec41e4daf8a8ea8b00ee8a09e"
       ],
       "layout": "IPY_MODEL_ca3a3838e4f543ae964f3935847c558b"
      }
     },
     "f8faa82bac6f443d9035b1467c864922": {
      "model_module": "@jupyter-widgets/controls",
      "model_module_version": "1.5.0",
      "model_name": "DescriptionStyleModel",
      "state": {
       "_model_module": "@jupyter-widgets/controls",
       "_model_module_version": "1.5.0",
       "_model_name": "DescriptionStyleModel",
       "_view_count": null,
       "_view_module": "@jupyter-widgets/base",
       "_view_module_version": "1.2.0",
       "_view_name": "StyleView",
       "description_width": ""
      }
     },
     "fe3021d656834989a8d66980b3c4cda1": {
      "model_module": "@jupyter-widgets/controls",
      "model_module_version": "1.5.0",
      "model_name": "FloatProgressModel",
      "state": {
       "_dom_classes": [],
       "_model_module": "@jupyter-widgets/controls",
       "_model_module_version": "1.5.0",
       "_model_name": "FloatProgressModel",
       "_view_count": null,
       "_view_module": "@jupyter-widgets/controls",
       "_view_module_version": "1.5.0",
       "_view_name": "ProgressView",
       "bar_style": "",
       "description": "",
       "description_tooltip": null,
       "layout": "IPY_MODEL_c0ae74cbc50f4867acbea9fd065ef5b2",
       "max": 9832.0,
       "min": 0.0,
       "orientation": "horizontal",
       "style": "IPY_MODEL_2ace3b0ead354d4c90c484d517e154f7",
       "value": 9832.0
      }
     }
    },
    "version_major": 2,
    "version_minor": 0
   }
  }
 },
 "nbformat": 4,
 "nbformat_minor": 5
}
